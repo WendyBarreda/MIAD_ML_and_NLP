{
 "cells": [
  {
   "cell_type": "markdown",
   "metadata": {},
   "source": [
    "![image info](https://raw.githubusercontent.com/albahnsen/MIAD_ML_and_NLP/main/images/banner_1.png)"
   ]
  },
  {
   "cell_type": "markdown",
   "metadata": {},
   "source": [
    "# Taller: Construcción e implementación de modelos Bagging, Random Forest y XGBoost\n",
    "\n",
    "En este taller podrán poner en práctica sus conocimientos sobre la construcción e implementación de modelos de Bagging, Random Forest y XGBoost. El taller está constituido por 8 puntos, en los cuales deberan seguir las intrucciones de cada numeral para su desarrollo."
   ]
  },
  {
   "cell_type": "markdown",
   "metadata": {},
   "source": [
    "## Datos predicción precio de automóviles\n",
    "\n",
    "En este taller se usará el conjunto de datos de Car Listings de Kaggle donde cada observación representa el precio de un automóvil teniendo en cuenta distintas variables como año, marca, modelo, entre otras. El objetivo es predecir si el precio del automóvil es alto o no. Para más detalles puede visitar el siguiente enlace: [datos](https://www.kaggle.com/jpayne/852k-used-car-listings)."
   ]
  },
  {
   "cell_type": "code",
   "execution_count": 1,
   "metadata": {},
   "outputs": [],
   "source": [
    "import warnings\n",
    "warnings.filterwarnings('ignore')"
   ]
  },
  {
   "cell_type": "code",
   "execution_count": 2,
   "metadata": {},
   "outputs": [
    {
     "data": {
      "text/html": [
       "<div>\n",
       "<style scoped>\n",
       "    .dataframe tbody tr th:only-of-type {\n",
       "        vertical-align: middle;\n",
       "    }\n",
       "\n",
       "    .dataframe tbody tr th {\n",
       "        vertical-align: top;\n",
       "    }\n",
       "\n",
       "    .dataframe thead th {\n",
       "        text-align: right;\n",
       "    }\n",
       "</style>\n",
       "<table border=\"1\" class=\"dataframe\">\n",
       "  <thead>\n",
       "    <tr style=\"text-align: right;\">\n",
       "      <th></th>\n",
       "      <th>Year</th>\n",
       "      <th>Mileage</th>\n",
       "      <th>M_Camry</th>\n",
       "      <th>M_Camry4dr</th>\n",
       "      <th>M_CamryBase</th>\n",
       "      <th>M_CamryL</th>\n",
       "      <th>M_CamryLE</th>\n",
       "      <th>M_CamrySE</th>\n",
       "      <th>M_CamryXLE</th>\n",
       "      <th>HighPrice</th>\n",
       "    </tr>\n",
       "  </thead>\n",
       "  <tbody>\n",
       "    <tr>\n",
       "      <th>7</th>\n",
       "      <td>2014</td>\n",
       "      <td>6480</td>\n",
       "      <td>0</td>\n",
       "      <td>0</td>\n",
       "      <td>0</td>\n",
       "      <td>1</td>\n",
       "      <td>0</td>\n",
       "      <td>0</td>\n",
       "      <td>0</td>\n",
       "      <td>1</td>\n",
       "    </tr>\n",
       "    <tr>\n",
       "      <th>11</th>\n",
       "      <td>2014</td>\n",
       "      <td>39972</td>\n",
       "      <td>0</td>\n",
       "      <td>0</td>\n",
       "      <td>0</td>\n",
       "      <td>0</td>\n",
       "      <td>1</td>\n",
       "      <td>0</td>\n",
       "      <td>0</td>\n",
       "      <td>0</td>\n",
       "    </tr>\n",
       "    <tr>\n",
       "      <th>167</th>\n",
       "      <td>2016</td>\n",
       "      <td>18989</td>\n",
       "      <td>0</td>\n",
       "      <td>0</td>\n",
       "      <td>0</td>\n",
       "      <td>0</td>\n",
       "      <td>0</td>\n",
       "      <td>1</td>\n",
       "      <td>0</td>\n",
       "      <td>1</td>\n",
       "    </tr>\n",
       "    <tr>\n",
       "      <th>225</th>\n",
       "      <td>2014</td>\n",
       "      <td>51330</td>\n",
       "      <td>0</td>\n",
       "      <td>0</td>\n",
       "      <td>0</td>\n",
       "      <td>1</td>\n",
       "      <td>0</td>\n",
       "      <td>0</td>\n",
       "      <td>0</td>\n",
       "      <td>0</td>\n",
       "    </tr>\n",
       "    <tr>\n",
       "      <th>270</th>\n",
       "      <td>2007</td>\n",
       "      <td>116065</td>\n",
       "      <td>0</td>\n",
       "      <td>1</td>\n",
       "      <td>0</td>\n",
       "      <td>0</td>\n",
       "      <td>0</td>\n",
       "      <td>0</td>\n",
       "      <td>0</td>\n",
       "      <td>0</td>\n",
       "    </tr>\n",
       "  </tbody>\n",
       "</table>\n",
       "</div>"
      ],
      "text/plain": [
       "     Year  Mileage  M_Camry  M_Camry4dr  M_CamryBase  M_CamryL  M_CamryLE  \\\n",
       "7    2014     6480        0           0            0         1          0   \n",
       "11   2014    39972        0           0            0         0          1   \n",
       "167  2016    18989        0           0            0         0          0   \n",
       "225  2014    51330        0           0            0         1          0   \n",
       "270  2007   116065        0           1            0         0          0   \n",
       "\n",
       "     M_CamrySE  M_CamryXLE  HighPrice  \n",
       "7            0           0          1  \n",
       "11           0           0          0  \n",
       "167          1           0          1  \n",
       "225          0           0          0  \n",
       "270          0           0          0  "
      ]
     },
     "execution_count": 2,
     "metadata": {},
     "output_type": "execute_result"
    }
   ],
   "source": [
    "# Importación de librerías\n",
    "%matplotlib inline\n",
    "import pandas as pd\n",
    "import numpy as np\n",
    "\n",
    "# Lectura de la información de archivo .csv\n",
    "data = pd.read_csv('https://raw.githubusercontent.com/albahnsen/MIAD_ML_and_NLP/main/datasets/dataTrain_carListings.zip')\n",
    "\n",
    "# Preprocesamiento de datos para el taller\n",
    "data = data.loc[data['Model'].str.contains('Camry')].drop(['Make', 'State'], axis=1)\n",
    "data = data.join(pd.get_dummies(data['Model'], prefix='M'))\n",
    "data['HighPrice'] = (data['Price'] > data['Price'].mean()).astype(int)\n",
    "data = data.drop(['Model', 'Price'], axis=1)\n",
    "\n",
    "# Visualización dataset\n",
    "data.head()"
   ]
  },
  {
   "cell_type": "code",
   "execution_count": 3,
   "metadata": {},
   "outputs": [],
   "source": [
    "# Separación de variables predictoras (X) y variable de interés (y)\n",
    "y = data['HighPrice']\n",
    "X = data.drop(['HighPrice'], axis=1)"
   ]
  },
  {
   "cell_type": "code",
   "execution_count": 4,
   "metadata": {},
   "outputs": [],
   "source": [
    "# Separación de datos en set de entrenamiento y test\n",
    "from sklearn.model_selection import train_test_split\n",
    "X_train, X_test, y_train, y_test = train_test_split(X, y, test_size=0.33, random_state=42)"
   ]
  },
  {
   "cell_type": "markdown",
   "metadata": {},
   "source": [
    "### Punto 1 - Árbol de decisión manual\n",
    "\n",
    "En la celda 1 creen un árbol de decisión **manualmente**  que considere los set de entrenamiento y test definidos anteriormente y presenten el acurracy del modelo en el set de test."
   ]
  },
  {
   "cell_type": "code",
   "execution_count": 5,
   "metadata": {},
   "outputs": [
    {
     "name": "stdout",
     "output_type": "stream",
     "text": [
      "{'y_pred': 1, 'y_prob': 0.5778472913408218, 'level': 0, 'split': [1, 51394.909090909096], 'n_samples': 7031, 'gain': 0.23630504821132137, 'sl': {'y_pred': 1, 'y_prob': 0.8375781948168007, 'level': 1, 'split': [0, 2015.0], 'n_samples': 4474, 'gain': 0.03713896892744761, 'sl': {'y_pred': 1, 'y_prob': 0.6404416839199448, 'level': 2, 'split': [0, 2013.0], 'n_samples': 1447, 'gain': 0.043426293133466354, 'sl': {'y_pred': 0, 'y_prob': 0.2780487804878049, 'level': 3, 'split': [0, 2012.0], 'n_samples': 203, 'gain': 0.05394731382546758, 'sl': {'y_pred': 0, 'y_prob': 0.09195402298850575, 'level': 4, 'split': [1, 35652.36363636363], 'n_samples': 85, 'gain': 0.01352946029496721, 'sl': {'y_pred': 0, 'y_prob': 0.24, 'level': 5, 'split': -1, 'n_samples': 23, 'gain': 0.08132745221592097}, 'sr': {'y_pred': 0, 'y_prob': 0.046875, 'level': 5, 'split': -1, 'n_samples': 62, 'gain': 0.0038712154997273124}}, 'sr': {'y_pred': 0, 'y_prob': 0.4166666666666667, 'level': 4, 'split': [1, 24887.363636363636], 'n_samples': 118, 'gain': 0.020017026523643233, 'sl': {'y_pred': 1, 'y_prob': 0.6923076923076923, 'level': 5, 'split': -1, 'n_samples': 11, 'gain': 0.11639118457300279}, 'sr': {'y_pred': 0, 'y_prob': 0.3853211009174312, 'level': 5, 'split': -1, 'n_samples': 107, 'gain': 0.02069617568904858}}}, 'sr': {'y_pred': 1, 'y_prob': 0.6998394863563403, 'level': 3, 'split': [1, 39822.0], 'n_samples': 1244, 'gain': 0.024256063237019176, 'sl': {'y_pred': 1, 'y_prob': 0.7671081677704195, 'level': 4, 'split': [6, 1.0], 'n_samples': 904, 'gain': 0.014011200973446158, 'sl': {'y_pred': 1, 'y_prob': 0.8110014104372355, 'level': 5, 'split': -1, 'n_samples': 707, 'gain': 0.00556156034847427}, 'sr': {'y_pred': 1, 'y_prob': 0.6080402010050251, 'level': 5, 'split': -1, 'n_samples': 197, 'gain': 0.0509520357534477}}, 'sr': {'y_pred': 1, 'y_prob': 0.52046783625731, 'level': 4, 'split': [6, 1.0], 'n_samples': 340, 'gain': 0.05453490718936188, 'sl': {'y_pred': 1, 'y_prob': 0.6098484848484849, 'level': 5, 'split': -1, 'n_samples': 262, 'gain': 0.016551370145274913}, 'sr': {'y_pred': 0, 'y_prob': 0.225, 'level': 5, 'split': -1, 'n_samples': 78, 'gain': 0.010898218590526254}}}}, 'sr': {'y_pred': 1, 'y_prob': 0.9316606140640475, 'level': 2, 'split': [1, 30532.545454545452], 'n_samples': 3027, 'gain': 0.007509453837285407, 'sl': {'y_pred': 1, 'y_prob': 0.9872958257713249, 'level': 3, 'split': -1, 'n_samples': 1651, 'gain': 0.00024133700317513843}, 'sr': {'y_pred': 1, 'y_prob': 0.8642960812772134, 'level': 3, 'split': [6, 1.0], 'n_samples': 1376, 'gain': 0.00816405585876312, 'sl': {'y_pred': 1, 'y_prob': 0.9044715447154471, 'level': 4, 'split': [1, 44211.63636363637], 'n_samples': 982, 'gain': 0.0011786261141377707, 'sl': {'y_pred': 1, 'y_prob': 0.9189944134078212, 'level': 5, 'split': -1, 'n_samples': 714, 'gain': 0.0015632224032787745}, 'sr': {'y_pred': 1, 'y_prob': 0.8629629629629629, 'level': 5, 'split': -1, 'n_samples': 268, 'gain': 0.0029666274073334997}}, 'sr': {'y_pred': 1, 'y_prob': 0.7626262626262627, 'level': 4, 'split': [1, 46088.36363636364], 'n_samples': 394, 'gain': 0.012432872082331625, 'sl': {'y_pred': 1, 'y_prob': 0.7993827160493827, 'level': 5, 'split': -1, 'n_samples': 322, 'gain': 0.0017790429580819}, 'sr': {'y_pred': 1, 'y_prob': 0.5945945945945946, 'level': 5, 'split': -1, 'n_samples': 72, 'gain': 0.0061262040428707865}}}}}, 'sr': {'y_pred': 0, 'y_prob': 0.12348573661586557, 'level': 1, 'split': [0, 2014.0], 'n_samples': 2557, 'gain': 0.047676779790769896, 'sl': {'y_pred': 0, 'y_prob': 0.03826530612244898, 'level': 2, 'split': [0, 2012.0], 'n_samples': 1958, 'gain': 0.0045681349880153654, 'sl': {'y_pred': 0, 'y_prob': 0.00727802037845706, 'level': 3, 'split': -1, 'n_samples': 1372, 'gain': 6.539810508043517e-05}, 'sr': {'y_pred': 0, 'y_prob': 0.11224489795918367, 'level': 3, 'split': [1, 73046.45454545454], 'n_samples': 586, 'gain': 0.011500104783552484, 'sl': {'y_pred': 0, 'y_prob': 0.21395348837209302, 'level': 4, 'split': [2, 0.7272727272727479], 'n_samples': 213, 'gain': 0.03131873045174638, 'sl': {'y_pred': 0, 'y_prob': 0.17435897435897435, 'level': 5, 'split': -1, 'n_samples': 193, 'gain': 0.0022441355404702046}, 'sr': {'y_pred': 1, 'y_prob': 0.5909090909090909, 'level': 5, 'split': -1, 'n_samples': 20, 'gain': 0.10666666666666669}}, 'sr': {'y_pred': 0, 'y_prob': 0.056, 'level': 4, 'split': [1, 86796.45454545454], 'n_samples': 373, 'gain': 0.0027469921069710745, 'sl': {'y_pred': 0, 'y_prob': 0.09883720930232558, 'level': 5, 'split': -1, 'n_samples': 170, 'gain': 0.005168695203297352}, 'sr': {'y_pred': 0, 'y_prob': 0.024390243902439025, 'level': 5, 'split': -1, 'n_samples': 203, 'gain': 0.0008738844612075081}}}}, 'sr': {'y_pred': 0, 'y_prob': 0.40266222961730447, 'level': 2, 'split': [0, 2015.0], 'n_samples': 599, 'gain': 0.03360777305969753, 'sl': {'y_pred': 0, 'y_prob': 0.30213903743315507, 'level': 3, 'split': [8, 1.0], 'n_samples': 372, 'gain': 0.02792228272448688, 'sl': {'y_pred': 0, 'y_prob': 0.2598187311178248, 'level': 4, 'split': [1, 60734.36363636364], 'n_samples': 329, 'gain': 0.020406917448241912, 'sl': {'y_pred': 0, 'y_prob': 0.39344262295081966, 'level': 5, 'split': -1, 'n_samples': 120, 'gain': 0.024785915984516682}, 'sr': {'y_pred': 0, 'y_prob': 0.1848341232227488, 'level': 5, 'split': -1, 'n_samples': 209, 'gain': 0.008907488615280956}}, 'sr': {'y_pred': 1, 'y_prob': 0.6222222222222222, 'level': 4, 'split': [1, 82538.7272727273], 'n_samples': 43, 'gain': 0.06528625511859693, 'sl': {'y_pred': 1, 'y_prob': 0.7027027027027027, 'level': 5, 'split': -1, 'n_samples': 35, 'gain': 0.027591836734693898}, 'sr': {'y_pred': 0, 'y_prob': 0.3, 'level': 5, 'split': -1, 'n_samples': 8, 'gain': 0.04166666666666674}}}, 'sr': {'y_pred': 1, 'y_prob': 0.5676855895196506, 'level': 3, 'split': [1, 81106.09090909094], 'n_samples': 227, 'gain': 0.02910175577937174, 'sl': {'y_pred': 1, 'y_prob': 0.6057692307692307, 'level': 4, 'split': [1, 56288.72727272727], 'n_samples': 206, 'gain': 0.01833397012522614, 'sl': {'y_pred': 1, 'y_prob': 0.7272727272727273, 'level': 5, 'split': -1, 'n_samples': 75, 'gain': 0.020388007054673807}, 'sr': {'y_pred': 1, 'y_prob': 0.5338345864661654, 'level': 5, 'split': -1, 'n_samples': 131, 'gain': 0.04889445575665913}}, 'sr': {'y_pred': 0, 'y_prob': 0.21739130434782608, 'level': 4, 'split': [8, 1.0], 'n_samples': 21, 'gain': 0.07558578987150422, 'sl': {'y_pred': 0, 'y_prob': 0.15, 'level': 5, 'split': -1, 'n_samples': 18, 'gain': 0.06419753086419752}, 'sr': {'y_pred': 1, 'y_prob': 0.6, 'level': 5, 'split': -1, 'n_samples': 3, 'gain': 0.4444444444444444}}}}}}\n",
      "-------------------Análisis de Accuracy-------------------\n",
      "verdaderos positivos: 1929\n",
      "verdaderos negativos: 1147\n",
      "falsos positivos: 291\n",
      "falsos negativos: 97\n",
      "0.8879907621247113\n"
     ]
    }
   ],
   "source": [
    "# Celda 1\n",
    "\n",
    "# Definición de la función que calcula el gini index\n",
    "def gini(y):\n",
    "    if y.shape[0] == 0:\n",
    "        return 0\n",
    "    else:\n",
    "        return 1 - (y.mean()**2 + (1 - y.mean())**2)\n",
    "\n",
    "# Definición de la función gini_imputiry para calular la ganancia de una variable predictora j dado el punto de corte k    \n",
    "def gini_impurity(X_col, y, split):\n",
    "    \n",
    "    filter_l = X_col < split\n",
    "    y_l = y.loc[filter_l]\n",
    "    y_r = y.loc[~filter_l]\n",
    "    \n",
    "    n_l = y_l.shape[0]\n",
    "    n_r = y_r.shape[0]\n",
    "    \n",
    "    gini_y = gini(y)\n",
    "    gini_l = gini(y_l)\n",
    "    gini_r = gini(y_r)\n",
    "    \n",
    "    gini_impurity_ = gini_y - (n_l / (n_l + n_r) * gini_l + n_r / (n_l + n_r) * gini_r)\n",
    "    \n",
    "    return gini_impurity_\n",
    "\n",
    "\n",
    "# Definición de la función best_split para calcular cuál es la mejor variable y punto de cortepara hacer la bifurcación del árbol\n",
    "def best_split(X, y, num_pct=10):\n",
    "    \n",
    "    features = range(X.shape[1])\n",
    "    \n",
    "    best_split = [0, 0, 0]  # j, split, gain\n",
    "    \n",
    "    # Para todas las varibles \n",
    "    for j in features:\n",
    "        \n",
    "        splits = np.percentile(X.iloc[:, j], np.arange(0, 100, 100.0 / (num_pct+1)).tolist())\n",
    "        splits = np.unique(splits)[1:]\n",
    "        \n",
    "        # Para cada partición\n",
    "        for split in splits:\n",
    "            gain = gini_impurity(X.iloc[:, j], y, split)\n",
    "                        \n",
    "            if gain > best_split[2]:\n",
    "                best_split = [j, split, gain]\n",
    "    \n",
    "    return best_split\n",
    "\n",
    "# Definición de la función tree_grow para hacer un crecimiento recursivo del árbol\n",
    "def tree_grow(X, y, level=0, min_gain=0.001, max_depth=None, num_pct=10):\n",
    "    \n",
    "    # Si solo es una observación\n",
    "    if X.shape[0] == 1:\n",
    "        tree = dict(y_pred=y.iloc[:1].values[0], y_prob=0.5, level=level, split=-1, n_samples=1, MSE=0)\n",
    "        return tree\n",
    "    \n",
    "    # Calcular la mejor división\n",
    "    j, split, gain = best_split(X, y, num_pct)\n",
    "    \n",
    "    # Guardar el árbol y estimar la predicción\n",
    "    y_pred = int(y.mean() >= 0.5) \n",
    "    y_prob = (y.sum() + 1.0) / (y.shape[0] + 2.0)  # Corrección Laplace \n",
    "    \n",
    "    tree = dict(y_pred=y_pred, y_prob=y_prob, level=level, split=-1, n_samples=X.shape[0], gain=gain)\n",
    "    # Revisar el criterio de parada \n",
    "    if gain < min_gain:\n",
    "        return tree\n",
    "    if max_depth is not None:\n",
    "        if level >= max_depth:\n",
    "            return tree   \n",
    "    \n",
    "    # Continuar creando la partición\n",
    "    filter_l = X.iloc[:, j] < split\n",
    "    X_l, y_l = X.loc[filter_l], y.loc[filter_l]\n",
    "    X_r, y_r = X.loc[~filter_l], y.loc[~filter_l]\n",
    "    tree['split'] = [j, split]\n",
    "\n",
    "    # Siguiente iteración para cada partición\n",
    "    \n",
    "    tree['sl'] = tree_grow(X_l, y_l, level + 1, min_gain=min_gain, max_depth=max_depth, num_pct=num_pct)\n",
    "    tree['sr'] = tree_grow(X_r, y_r, level + 1, min_gain=min_gain, max_depth=max_depth, num_pct=num_pct)\n",
    "    \n",
    "    return tree\n",
    "\n",
    "# Aplicación de la función tree_grow\n",
    "tree=tree_grow(X_train, y_train, level=0, min_gain=0.001, max_depth=5, num_pct=10)\n",
    "print(tree)\n",
    "\n",
    "\n",
    "# Definición de la función tree_predict para hacer predicciones según las variables 'X' y el árbol 'tree'\n",
    "\n",
    "def tree_predict(X, tree, proba=False):\n",
    "    \n",
    "    predicted = np.ones(X.shape[0])\n",
    "\n",
    "    # Revisar si es el nodo final\n",
    "    if tree['split'] == -1:\n",
    "        if not proba:\n",
    "            predicted = predicted * tree['y_pred']\n",
    "        else:\n",
    "            predicted = predicted * tree['y_prob']\n",
    "            \n",
    "    else:\n",
    "        \n",
    "        j, split = tree['split']\n",
    "        filter_l = (X.iloc[:, j] < split)\n",
    "        X_l = X.loc[filter_l]\n",
    "        X_r = X.loc[~filter_l]\n",
    "\n",
    "        if X_l.shape[0] == 0:  # Si el nodo izquierdo está vacio solo continua con el derecho \n",
    "            predicted[~filter_l] = tree_predict(X_r, tree['sr'], proba)\n",
    "        elif X_r.shape[0] == 0:  #  Si el nodo derecho está vacio solo continua con el izquierdo\n",
    "            predicted[filter_l] = tree_predict(X_l, tree['sl'], proba)\n",
    "        else:\n",
    "            predicted[filter_l] = tree_predict(X_l, tree['sl'], proba)\n",
    "            predicted[~filter_l] = tree_predict(X_r, tree['sr'], proba)\n",
    "\n",
    "    return predicted\n",
    "\n",
    "\n",
    "predicciones=tree_predict(X_test, tree)\n",
    "\n",
    "\n",
    "predicciones1=predicciones.tolist()\n",
    "y_test1=y_test.tolist()\n",
    "tp=0\n",
    "tn=0\n",
    "fp=0\n",
    "fn=0\n",
    "i=0\n",
    "listi=[]\n",
    "while i < len(predicciones1):\n",
    "    if predicciones1[i]==1:\n",
    "        if y_test1[i]==1:\n",
    "            tp=tp+1\n",
    "        else:\n",
    "            fp=fp+1\n",
    "    else:\n",
    "        if y_test1[i]==0:\n",
    "            tn=tn+1\n",
    "        else:\n",
    "            fn=fn+1\n",
    "    i=i+1\n",
    "    \n",
    "    \n",
    "print('-------------------Análisis de Accuracy-------------------')\n",
    "accuracy_tree=(tp+tn)/(tp+tn+fp+fn)\n",
    "print('verdaderos positivos: '+str(tp))\n",
    "print('verdaderos negativos: '+str(tn))\n",
    "print('falsos positivos: '+str(fp))\n",
    "print('falsos negativos: '+str(fn))\n",
    "print(accuracy_tree)"
   ]
  },
  {
   "cell_type": "markdown",
   "metadata": {},
   "source": [
    "### Punto 2 - Bagging manual\n",
    "\n",
    "En la celda 2 creen un modelo bagging **manualmente** con 10 árboles de clasificación y comenten sobre el desempeño del modelo."
   ]
  },
  {
   "cell_type": "code",
   "execution_count": 6,
   "metadata": {},
   "outputs": [
    {
     "name": "stdout",
     "output_type": "stream",
     "text": [
      "Árbol  0 tiene un accuracy:  0.8354503464203233\n",
      "Árbol  1 tiene un accuracy:  0.8342956120092379\n",
      "Árbol  2 tiene un accuracy:  0.8299653579676675\n",
      "Árbol  3 tiene un accuracy:  0.8386258660508084\n",
      "Árbol  4 tiene un accuracy:  0.8371824480369515\n",
      "Árbol  5 tiene un accuracy:  0.8409353348729792\n",
      "Árbol  6 tiene un accuracy:  0.8368937644341802\n",
      "Árbol  7 tiene un accuracy:  0.8400692840646651\n",
      "Árbol  8 tiene un accuracy:  0.8397806004618937\n",
      "Árbol  9 tiene un accuracy:  0.8296766743648961\n",
      "--------------------------------------\n",
      "Accuracy = 0.851905311778291\n"
     ]
    }
   ],
   "source": [
    "# Celda 2\n",
    "import numpy as np\n",
    "from sklearn.tree import DecisionTreeClassifier\n",
    "from sklearn.metrics import accuracy_score\n",
    "\n",
    "n_estimators = 10 #Número de árboles y muestras bootstrap\n",
    "\n",
    "np.random.seed(123)\n",
    "n_samples = X_train.shape[0]\n",
    "samples = [np.random.choice(a=n_samples, size=n_samples, replace=True) for _ in range(1, n_estimators +1 )]\n",
    "\n",
    "# Para que los arboles sean diferentes generamos semillas diferentes\n",
    "np.random.seed(123) \n",
    "seeds = np.random.randint(1, 10000, size=n_estimators)\n",
    "\n",
    "# DataFrame para guardar las predicciones de cada árbol\n",
    "y_pred = pd.DataFrame(index=X_test.index, columns=[list(range(n_estimators))])\n",
    "\n",
    "# Entrenamiento de 10 modelos con las 10 muestras boostrap\n",
    "for i, sample in enumerate(samples):\n",
    "    tree = DecisionTreeClassifier(max_features=\"sqrt\", max_depth=None, random_state=seeds[i])\n",
    "    tree.fit(X_train.iloc[sample],  y_train.iloc[sample])\n",
    "    y_pred.iloc[:,i] = tree.predict(X_test)\n",
    "\n",
    "# Desempeño de cada árbol\n",
    "for i in range(n_estimators):\n",
    "    print('Árbol ', i, 'tiene un accuracy: ', accuracy_score(y_pred.iloc[:,i], y_test))\n",
    "      \n",
    "# Votación mayoritaria\n",
    "y_pred_ = (y_pred.sum(axis=1) >= (n_estimators / 2)).astype(np.int)\n",
    "\n",
    "# Desempeño al hacer votación mayoritaria\n",
    "print('--------------------------------------')\n",
    "accuracyBM = accuracy_score(y_test, y_pred_)\n",
    "print('Accuracy = '+str(accuracyBM))"
   ]
  },
  {
   "cell_type": "markdown",
   "metadata": {},
   "source": [
    "> ### Resultados\n",
    "\n",
    "> Para construir el baggind manueal se consideraron los siguientes puntos: \n",
    "> * Primero se obtuvieron 10 muestras \"Bootstrap\" y para cada una de ellas, se entreno en un árbol de decisión independiente y se hicieron las predicciones correspondientes. \n",
    "> * Al final se combinaron las predicciones de los diferentes árboles, y se seleccionó por votación mayoritaria el resultado debido a que tenemos un problema de clasificación. \n",
    "> * Cada muestra de \"Bootstrap\" se generó del mismo tamaño que el conjunto de entrenamiento original. \n",
    "\n",
    "> Bagging aumenta la precisión predictiva al reducir la varianza de manera similar cómo lo hace la validación cruzada. "
   ]
  },
  {
   "cell_type": "markdown",
   "metadata": {},
   "source": [
    "### Punto 3 - Bagging con librería\n",
    "\n",
    "En la celda 3, con la librería sklearn, entrenen un modelo bagging con 10 árboles de clasificación y el parámetro `max_features` igual a `log(n_features)`. Presenten el acurracy del modelo en el set de test y comenten sus resultados."
   ]
  },
  {
   "cell_type": "code",
   "execution_count": 7,
   "metadata": {},
   "outputs": [
    {
     "name": "stdout",
     "output_type": "stream",
     "text": [
      "[0 0 1 ... 1 0 0]\n",
      "Accuracy: 0.8429561200923787\n"
     ]
    }
   ],
   "source": [
    "# Celda 3\n",
    "from sklearn.ensemble import BaggingClassifier\n",
    "from sklearn.tree import DecisionTreeClassifier\n",
    "from sklearn import metrics\n",
    "\n",
    "n_estimators=10\n",
    "\n",
    "bagging = BaggingClassifier(base_estimator= DecisionTreeClassifier(max_depth=None,max_features=\"log2\"),\n",
    "                            n_estimators=n_estimators,bootstrap=True, oob_score=True, random_state=1)\n",
    "\n",
    "bagging.fit(X_train, y_train)\n",
    "y_pred= bagging.predict(X_test)\n",
    "\n",
    "\n",
    "print(y_pred)\n",
    "print(\"Accuracy: \" + str(metrics.accuracy_score(y_test, y_pred)))"
   ]
  },
  {
   "cell_type": "markdown",
   "metadata": {},
   "source": [
    "> ### Resultados\n",
    "> Se puede observar que la métrica de Accuracy nos arroja un peor resultado que el árbol de decisión, pues mientras el primero nos arroja una métrica de 0.887 , el bagging manual y con librería nos arroja 0.8519 y 0.842 respectivamente"
   ]
  },
  {
   "cell_type": "markdown",
   "metadata": {},
   "source": [
    "### Punto 4 - Random forest con librería\n",
    "\n",
    "En la celda 4, usando la librería sklearn entrenen un modelo de Randon Forest para clasificación y presenten el acurracy del modelo en el set de test y comenten sus resultados."
   ]
  },
  {
   "cell_type": "code",
   "execution_count": 8,
   "metadata": {},
   "outputs": [
    {
     "name": "stdout",
     "output_type": "stream",
     "text": [
      "True Positives (TP) = 1762\tTrue Negatives (TN) = 1163\tNúmero total de muestras (n) = 3464\n",
      "Accuracy = 0.8443995381062356\n",
      "F1 = 0.8673394043809993\n"
     ]
    }
   ],
   "source": [
    "# Celda 4\n",
    "from sklearn.ensemble import RandomForestClassifier\n",
    "from sklearn.metrics import accuracy_score, confusion_matrix, f1_score\n",
    "\n",
    "\n",
    "clf = RandomForestClassifier(random_state=0)\n",
    "clf.fit(X_train, y_train)\n",
    "y_pred = clf.predict(X_test)\n",
    "\n",
    "tn, fp, fn, tp  = confusion_matrix(y_test,y_pred).ravel()\n",
    "print('True Positives (TP) = ' + str(tp) + '\\tTrue Negatives (TN) = ' + str(tn) + '\\tNúmero total de muestras (n) = ' + str(X_test.shape[0]))\n",
    "\n",
    "accuracyRF = accuracy_score(y_test, y_pred)\n",
    "f1RF = f1_score(y_test, y_pred)\n",
    "print('Accuracy = '+str(accuracyRF))\n",
    "print('F1 = '+str(f1RF))"
   ]
  },
  {
   "cell_type": "markdown",
   "metadata": {},
   "source": [
    "> ### Resultados\n",
    "\n",
    "> El modelo Random Forest se entrenó con los parametros por default, que en este caso son: \n",
    "> * n_estimators (número de árboles) = 100\n",
    "> * criterion (función para estimar las divisiones) = gini\n",
    "> * max_depth (profundidad máxima del ábol) = None, es decir, los nodos se expanden hasta que todas las hojas sean puras o hasta que todas las hojas contengan menos de min_samples_split.\n",
    "> * min_samples_split (número mínimo de muestras requeridas para dividir un nodo interno) = 2 \n",
    "> * max_features (número de variables que se deben considerar en cada árbol) = auto, es decir, se incluyen todas.\n",
    "\n",
    "> Al realizar el calculo del accuray con la muestra de Test se obtuvo un resultado de 0.84, es decir, el modelo acierta el 84% de las veces. Es importante recordar que el accuracy es una métrica para clasificación y esta es la razón por la cuál podemos utilizarla en este ejercicio\n",
    "\n"
   ]
  },
  {
   "cell_type": "markdown",
   "metadata": {},
   "source": [
    "### Punto 5 - Calibración de parámetros Random forest\n",
    "\n",
    "En la celda 5, calibren los parámetros max_depth, max_features y n_estimators del modelo de Randon Forest para clasificación. Presenten el acurracy del modelo en el set de test, comenten sus resultados y análicen cómo cada parámetro afecta el modelo."
   ]
  },
  {
   "cell_type": "code",
   "execution_count": 9,
   "metadata": {},
   "outputs": [
    {
     "data": {
      "image/png": "[encoded data removed]",
      "text/plain": [
       "<Figure size 432x288 with 1 Axes>"
      ]
     },
     "metadata": {
      "needs_background": "light"
     },
     "output_type": "display_data"
    },
    {
     "data": {
      "image/png": "[encoded data removed]",
      "text/plain": [
       "<Figure size 432x288 with 1 Axes>"
      ]
     },
     "metadata": {
      "needs_background": "light"
     },
     "output_type": "display_data"
    },
    {
     "data": {
      "image/png": "[encoded data removed]",
      "text/plain": [
       "<Figure size 432x288 with 1 Axes>"
      ]
     },
     "metadata": {
      "needs_background": "light"
     },
     "output_type": "display_data"
    },
    {
     "name": "stdout",
     "output_type": "stream",
     "text": [
      "Accuracy = 0.8911662817551963\n",
      "F1 = 0.9106846718787017\n"
     ]
    }
   ],
   "source": [
    "# Celda 5\n",
    "import matplotlib.pyplot as plt\n",
    "from sklearn.model_selection import cross_val_score\n",
    "# Creación de lista de valores para iterar sobre diferentes valores de n_estimators\n",
    "estimator_range = range(10, 310, 10)\n",
    "\n",
    "# Definición de lista para almacenar la exactitud (accuracy) promedio para cada valor de n_estimators\n",
    "accuracy_scores = []\n",
    "\n",
    "# Uso de un 5-fold cross-validation para cada valor de n_estimators\n",
    "for estimator in estimator_range:\n",
    "    clf = RandomForestClassifier(n_estimators=estimator, random_state=1, n_jobs=-1)\n",
    "    accuracy_scores.append(cross_val_score(clf, X_train, y_train, cv=5, scoring='accuracy').mean())\n",
    "    \n",
    "# Gráfica del desempeño del modelo vs la cantidad de n_estimators\n",
    "plt.plot(estimator_range, accuracy_scores)\n",
    "plt.xlabel('n_estimators')\n",
    "plt.ylabel('Accuracy')\n",
    "plt.show()\n",
    "\n",
    "# Creación de lista de valores para iterar sobre diferentes valores de max_features\n",
    "feature_cols = X_train.columns\n",
    "feature_cols\n",
    "feature_range = range(1, len(feature_cols)+1)\n",
    "\n",
    "# Definición de lista para almacenar la exactitud (accuracy) promedio para cada valor de max_features\n",
    "accuracy_scores1 = []\n",
    "\n",
    "# Uso de un 10-fold cross-validation para cada valor de max_features\n",
    "for feature in feature_range:\n",
    "    clf = RandomForestClassifier(n_estimators=10, max_features=feature, random_state=1, n_jobs=-1)\n",
    "    accuracy_scores1.append(cross_val_score(clf, X_train, y_train, cv=5, scoring='accuracy').mean())\n",
    "    \n",
    "# Gráfica del desempeño del modelo vs la cantidad de max_features\n",
    "plt.plot(feature_range, accuracy_scores1)\n",
    "plt.xlabel('max_features')\n",
    "plt.ylabel('Accuracy')\n",
    "plt.show()\n",
    "\n",
    "# Creación de lista de valores para iterar sobre diferentes valores de max_depth\n",
    "estimator_range1 = range(3, 18, 2)\n",
    "\n",
    "# Definición de lista para almacenar la exactitud (accuracy) promedio para cada valor de max_depth\n",
    "accuracy_scores2 = []\n",
    "\n",
    "# Uso de un 5-fold cross-validation para cada valor de max_depth\n",
    "for max_depth in estimator_range1:\n",
    "    clf = RandomForestClassifier(n_estimators=10, max_depth=max_depth, max_features=8, random_state=1, n_jobs=-1)\n",
    "    accuracy_scores2.append(cross_val_score(clf, X_train, y_train, cv=5, scoring='accuracy').mean())\n",
    "    \n",
    "    \n",
    "# Gráfica del desempeño del modelo vs la cantidad de max_depth\n",
    "plt.plot(estimator_range1, accuracy_scores2)\n",
    "plt.xlabel('max_depth')\n",
    "plt.ylabel('Accuracy')\n",
    "plt.show()\n",
    "\n",
    "# Definición del modelo con los parámetros max_features=8, max_depth=5 y n_estimators=10 \n",
    "clf1 = RandomForestClassifier(n_estimators=10, max_depth=5, max_features=8, random_state=1, n_jobs=-1)\n",
    "clf1.fit(X_test, y_test)\n",
    "y_predRFC= clf1.predict(X_test)\n",
    "accuracyRFC = accuracy_score(y_test, y_predRFC)\n",
    "f1RFC = f1_score(y_test, y_predRFC)\n",
    "print('Accuracy = '+str(accuracyRFC))\n",
    "print('F1 = '+str(f1RFC))"
   ]
  },
  {
   "cell_type": "markdown",
   "metadata": {},
   "source": [
    "> ### Resultados \n",
    "> Al calibrar el modelo random forest de manera separada se parte de que la combinación no necesariamente arroja una combinación óptima, sin embargo, en velocidad de predicción es mucho mejor.  Según los resultados de las iteraciones el modelo es óptimo (por separado) cuando tiene 10 estimadores, 8 variables y 5 de profundidad y esto nos arroja un accuracy de 0.8911 que sí mejora respecto al random forest no calibrado"
   ]
  },
  {
   "cell_type": "markdown",
   "metadata": {},
   "source": [
    "### Punto 6 - XGBoost con librería\n",
    "\n",
    "En la celda 6 implementen un modelo XGBoost de clasificación con la librería sklearn, presenten el acurracy del modelo en el set de test y comenten sus resultados."
   ]
  },
  {
   "cell_type": "code",
   "execution_count": 10,
   "metadata": {},
   "outputs": [
    {
     "name": "stdout",
     "output_type": "stream",
     "text": [
      "Requirement already satisfied: xgboost in c:\\users\\wendy\\anaconda3\\lib\\site-packages (1.5.2)\n",
      "Requirement already satisfied: numpy in c:\\users\\wendy\\anaconda3\\lib\\site-packages (from xgboost) (1.21.5)\n",
      "Requirement already satisfied: scipy in c:\\users\\wendy\\anaconda3\\lib\\site-packages (from xgboost) (1.7.3)\n",
      "[23:16:43] WARNING: C:/Users/Administrator/workspace/xgboost-win64_release_1.5.1/src/learner.cc:1115: Starting in XGBoost 1.3.0, the default evaluation metric used with the objective 'binary:logistic' was changed from 'error' to 'logloss'. Explicitly set eval_metric if you'd like to restore the old behavior.\n",
      "F1 score: 0.9047160731472569\n",
      "Accuracy: 0.8856812933025404\n"
     ]
    }
   ],
   "source": [
    "# Celda 6\n",
    "# Importación y definición de modelo XGBClassifier\n",
    "\n",
    "!pip install xgboost\n",
    "from sklearn import metrics\n",
    "from xgboost import XGBClassifier\n",
    "\n",
    "clf = XGBClassifier()\n",
    "\n",
    "# Entrenamiento (fit) y desempeño del modelo XGBClassifier\n",
    "\n",
    "clf.fit(X_train, y_train)\n",
    "y_pred = clf.predict(X_test)\n",
    "accuracyXGB = metrics.accuracy_score(y_pred, y_test.values)\n",
    "f1XGB = metrics.f1_score(y_pred, y_test.values)\n",
    "print('F1 score: '+ str(f1XGB))\n",
    "print('Accuracy: '+ str(accuracyXGB))\n"
   ]
  },
  {
   "cell_type": "markdown",
   "metadata": {},
   "source": [
    "> ### Resultados \n",
    "> El valor conseguido para el f1_score fue de 0.9047 con un accuracy de 0.8856, es decir un 88,56% de los datos fueron clasificados correctamente."
   ]
  },
  {
   "cell_type": "markdown",
   "metadata": {},
   "source": [
    "### Punto 7 - Calibración de parámetros XGBoost\n",
    "\n",
    "En la celda 7 calibren los parámetros learning rate, gamma y colsample_bytree del modelo XGBoost para clasificación. Presenten el acurracy del modelo en el set de test, comenten sus resultados y análicen cómo cada parámetro afecta el modelo."
   ]
  },
  {
   "cell_type": "code",
   "execution_count": 11,
   "metadata": {},
   "outputs": [
    {
     "name": "stdout",
     "output_type": "stream",
     "text": [
      "Mejor parametro gamma con el debido resultado\n",
      "{'gamma': 0.0}\n",
      "0.8742719040440956\n",
      "Mejor parametro learning_rate con el debido resultado\n",
      "{'learning_rate': 0.01}\n",
      "0.8796768039501739\n",
      "Mejor parametro colsample_bytree con el debido resultado\n",
      "{'colsample_bytree': 0.7}\n",
      "0.8812413243677973\n",
      "Resultado con los mejores parametros:\n",
      "F1 score: 0.9073588949749941\n",
      "Accuracy: 0.8877020785219399\n"
     ]
    },
    {
     "data": {
      "text/plain": [
       "(None, None)"
      ]
     },
     "execution_count": 11,
     "metadata": {},
     "output_type": "execute_result"
    }
   ],
   "source": [
    "# Celda 7\n",
    "from sklearn.model_selection import GridSearchCV\n",
    "from sklearn.metrics import mean_squared_error\n",
    "# Calibrar el parametro gamma\n",
    "\n",
    "# Por medio de GridSearchCV se buscara el valor para el parametro gamma que nos arroje mejores resultados dentro de los valores\n",
    "# tipicos que se manejan. GridSearch nos ayuda a iterar con los valores especificados para obtener la\n",
    "# mayor precisión\n",
    "\n",
    "# Se define el rango de los valores tipicos que utiliza el parametro gamma\n",
    "param_gamma = {\n",
    " 'gamma':[i/10.0 for i in range(0,5)]\n",
    "}\n",
    "\n",
    "# Por medio de GridSearchCV se recorreran todas las combinaciones posibles establecidas anteriormente para poder\n",
    "# encontrar la que mayor precisión nos ofrece\n",
    "gsearch_1 = GridSearchCV(estimator = XGBClassifier(eval_metric='error'), \n",
    " param_grid = param_gamma, cv=5)\n",
    "\n",
    "# Se procede a entrenar el modelo\n",
    "gsearch_1.fit(X_train, y_train)\n",
    "\n",
    "print('Mejor parametro gamma con el debido resultado')\n",
    "best_gamma=gsearch_1.best_params_['gamma']\n",
    "print(gsearch_1.best_params_), print(gsearch_1.best_score_)\n",
    "\n",
    "\n",
    "# Calibrar el parametro learning_rate\n",
    "\n",
    "# Se define el rango de los valores tipicos que utiliza el parametro learning_rate\n",
    "param_learning_rate = {\n",
    " 'learning_rate' : [0.001, 0.01, 0.1]\n",
    "}\n",
    "\n",
    "# Por medio de GridSearchCV se recorreran todas las combinaciones posibles establecidas anteriormente para poder\n",
    "# encontrar la que mayor precisión nos ofrece\n",
    "gsearch_2 = GridSearchCV(estimator = XGBClassifier(gamma=best_gamma, eval_metric='error'), \n",
    " param_grid = param_learning_rate, cv=5)\n",
    "\n",
    "# Se procede a entrenar el modelo\n",
    "gsearch_2.fit(X_train, y_train)\n",
    "\n",
    "print('Mejor parametro learning_rate con el debido resultado')\n",
    "best_learning_rate=gsearch_2.best_params_['learning_rate']\n",
    "print(gsearch_2.best_params_), print(gsearch_2.best_score_)\n",
    "\n",
    "\n",
    "# Calibrar el parametro colsample_bytree\n",
    "\n",
    "# Se define el rango de los valores tipicos que utiliza el parametro best_learning_rate\n",
    "param_colsample_bytree = {\n",
    " 'colsample_bytree':[i/10.0 for i in range(6,10)]\n",
    "}\n",
    "\n",
    "# Por medio de GridSearchCV se recorreran todas las combinaciones posibles establecidas anteriormente para poder\n",
    "# encontrar la que mayor precisión nos ofrece\n",
    "gsearch_3 = GridSearchCV(estimator = XGBClassifier(gamma=best_gamma, learning_rate=best_learning_rate, eval_metric='error'), \n",
    " param_grid = param_colsample_bytree, cv=5)\n",
    "\n",
    "# Se procede a entrenar el modelo\n",
    "gsearch_3.fit(X_train, y_train)\n",
    "\n",
    "print('Mejor parametro colsample_bytree con el debido resultado')\n",
    "best_colsample_bytree=gsearch_3.best_params_['colsample_bytree']\n",
    "print(gsearch_3.best_params_), print(gsearch_3.best_score_)\n",
    "\n",
    "\n",
    "# Entrenamiento (fit) y desempeño del modelo XGBClassifier con los parametros obtenidos\n",
    "clf = XGBClassifier(gamma=best_gamma, learning_rate=best_learning_rate,colsample_bytree=best_colsample_bytree,eval_metric='error')\n",
    "clf.fit(X_train, y_train)\n",
    "y_pred = clf.predict(X_test)\n",
    "\n",
    "\n",
    "\n",
    "accuracyXGBC = metrics.accuracy_score(y_pred, y_test.values)\n",
    "f1XGBC = metrics.f1_score(y_pred, y_test.values)\n",
    "\n",
    "print('Resultado con los mejores parametros:')\n",
    "print('F1 score: '+str(f1XGBC)), print('Accuracy: '+str(accuracyXGBC))"
   ]
  },
  {
   "cell_type": "markdown",
   "metadata": {},
   "source": [
    "> ### Resultados\n",
    "> Mientras se iban calibrando los parametros se pudo observar como mejoraban los resultados, al utilizar los 3 parametros finales se obtuvo un accuracy de 0,8877 con el cual se mejoraron los resultados obtenidos en el punto 6."
   ]
  },
  {
   "cell_type": "markdown",
   "metadata": {},
   "source": [
    "### Punto 8 - Comparación y análisis de resultados\n",
    "En la celda 8 comparen los resultados obtenidos de los diferentes modelos (random forest y XGBoost) y comenten las ventajas del mejor modelo y las desventajas del modelo con el menor desempeño."
   ]
  },
  {
   "cell_type": "code",
   "execution_count": 12,
   "metadata": {},
   "outputs": [
    {
     "name": "stdout",
     "output_type": "stream",
     "text": [
      "-------------------------------- Comparación de Modelos por Accuracy --------------------------------------\n"
     ]
    },
    {
     "data": {
      "image/png": "[encoded data removed]",
      "text/plain": [
       "<Figure size 432x288 with 1 Axes>"
      ]
     },
     "metadata": {
      "needs_background": "light"
     },
     "output_type": "display_data"
    },
    {
     "name": "stdout",
     "output_type": "stream",
     "text": [
      "-------------------------------- Comparación de Modelos por F1 --------------------------------------\n"
     ]
    },
    {
     "data": {
      "image/png": "[encoded data removed]",
      "text/plain": [
       "<Figure size 432x288 with 1 Axes>"
      ]
     },
     "metadata": {
      "needs_background": "light"
     },
     "output_type": "display_data"
    }
   ],
   "source": [
    "# Celda 8\n",
    "#Comparacion de modelos\n",
    "print('-------------------------------- Comparación de Modelos por Accuracy --------------------------------------')\n",
    "fig = plt.figure()\n",
    "ax = fig.add_axes([0,0,1,1])\n",
    "ax.set_title(\"Comparación de modelos Accuracy\")\n",
    "ejeX = ['Random Forest sin calibrar','Random Forest calibrado','XGBoost sin calibrar','XGBoost calibrado']\n",
    "ejeY = [round(accuracyRF,4),round(accuracyRFC,4),round(accuracyXGB,4),round(accuracyXGBC,4)]\n",
    "ax.bar(ejeX,ejeY)\n",
    "def addlabels(x,y,plotP):\n",
    "    for i in range(len(x)):\n",
    "        plotP.text(i,y[i],y[i])\n",
    "addlabels(ejeX,ejeY,plt)\n",
    "plt.xticks(rotation=90)\n",
    "plt.show()\n",
    "\n",
    "print('-------------------------------- Comparación de Modelos por F1 --------------------------------------')\n",
    "fig = plt.figure()\n",
    "ax = fig.add_axes([0,0,1,1])\n",
    "ax.set_title(\"Comparación de modelos F1\")\n",
    "ejeX = ['Random Forest sin calibrar','Random Forest calibrado','XGBoost sin calibrar','XGBoost calibrado']\n",
    "ejeY = [round(f1RF,4),round(f1RFC,4),round(f1XGB,4),round(f1XGBC,4)]\n",
    "ax.bar(ejeX,ejeY)\n",
    "def addlabels(x,y,plotP):\n",
    "    for i in range(len(x)):\n",
    "        plotP.text(i,y[i],y[i])\n",
    "addlabels(ejeX,ejeY,plt)\n",
    "plt.xticks(rotation=90)\n",
    "plt.show()\n",
    "\n"
   ]
  },
  {
   "cell_type": "markdown",
   "metadata": {},
   "source": [
    "> ### Resultados \n",
    "> Gracias a las graficas anteriores podemos observar que para ambas metricas (accuracy y F1), el valor de los modelos cablibrado es mejor. En el caso de Random Forest la diferencia es significativa y para XGBoost es pequeña pero sigue mostrando mejora el modelo calibrado"
   ]
  }
 ],
 "metadata": {
  "kernelspec": {
   "display_name": "Python 3 (ipykernel)",
   "language": "python",
   "name": "python3"
  },
  "language_info": {
   "codemirror_mode": {
    "name": "ipython",
    "version": 3
   },
   "file_extension": ".py",
   "mimetype": "text/x-python",
   "name": "python",
   "nbconvert_exporter": "python",
   "pygments_lexer": "ipython3",
   "version": "3.8.8"
  }
 },
 "nbformat": 4,
 "nbformat_minor": 4
}
