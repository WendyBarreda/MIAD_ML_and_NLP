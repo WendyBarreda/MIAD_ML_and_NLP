{
 "cells": [
  {
   "cell_type": "markdown",
   "metadata": {},
   "source": [
    "![image info](https://raw.githubusercontent.com/albahnsen/MIAD_ML_and_NLP/main/images/banner_1.png)"
   ]
  },
  {
   "cell_type": "markdown",
   "metadata": {},
   "source": [
    "# Taller: Construcción e implementación de árboles de decisión y métodos de ensamblaje\n",
    "\n",
    "En este taller podrá poner en práctica los sus conocimientos sobre construcción e implementación de árboles de decisión y métodos de ensamblajes. El taller está constituido por 9 puntos, 5 relacionados con árboles de decisión (parte A) y 4 con métodos de ensamblaje (parte B)."
   ]
  },
  {
   "cell_type": "markdown",
   "metadata": {},
   "source": [
    "## Parte A - Árboles de decisión\n",
    "\n",
    "En esta parte del taller se usará el conjunto de datos de Capital Bikeshare de Kaggle, donde cada observación representa el alquiler de una bicicleta durante una hora y día determinado. Para más detalles puede visitar los siguientes enlaces: [datos](https://github.com/justmarkham/DAT8/blob/master/data/bikeshare.csv), [dicccionario de datos](https://www.kaggle.com/c/bike-sharing-demand/data)."
   ]
  },
  {
   "cell_type": "markdown",
   "metadata": {},
   "source": [
    "### Datos prestamo de bicicletas"
   ]
  },
  {
   "cell_type": "code",
   "execution_count": 1,
   "metadata": {},
   "outputs": [],
   "source": [
    "import warnings\n",
    "warnings.filterwarnings('ignore')"
   ]
  },
  {
   "cell_type": "code",
   "execution_count": 2,
   "metadata": {},
   "outputs": [],
   "source": [
    "# Importación de librerías\n",
    "%matplotlib inline\n",
    "import pandas as pd\n",
    "import numpy as np\n",
    "from sklearn.model_selection import cross_val_score\n",
    "from sklearn.linear_model import LinearRegression\n",
    "from sklearn.tree import DecisionTreeRegressor, export_graphviz"
   ]
  },
  {
   "cell_type": "code",
   "execution_count": 3,
   "metadata": {},
   "outputs": [
    {
     "data": {
      "text/html": [
       "<div>\n",
       "<style scoped>\n",
       "    .dataframe tbody tr th:only-of-type {\n",
       "        vertical-align: middle;\n",
       "    }\n",
       "\n",
       "    .dataframe tbody tr th {\n",
       "        vertical-align: top;\n",
       "    }\n",
       "\n",
       "    .dataframe thead th {\n",
       "        text-align: right;\n",
       "    }\n",
       "</style>\n",
       "<table border=\"1\" class=\"dataframe\">\n",
       "  <thead>\n",
       "    <tr style=\"text-align: right;\">\n",
       "      <th></th>\n",
       "      <th>season</th>\n",
       "      <th>holiday</th>\n",
       "      <th>workingday</th>\n",
       "      <th>weather</th>\n",
       "      <th>temp</th>\n",
       "      <th>atemp</th>\n",
       "      <th>humidity</th>\n",
       "      <th>windspeed</th>\n",
       "      <th>casual</th>\n",
       "      <th>registered</th>\n",
       "      <th>total</th>\n",
       "      <th>hour</th>\n",
       "    </tr>\n",
       "    <tr>\n",
       "      <th>datetime</th>\n",
       "      <th></th>\n",
       "      <th></th>\n",
       "      <th></th>\n",
       "      <th></th>\n",
       "      <th></th>\n",
       "      <th></th>\n",
       "      <th></th>\n",
       "      <th></th>\n",
       "      <th></th>\n",
       "      <th></th>\n",
       "      <th></th>\n",
       "      <th></th>\n",
       "    </tr>\n",
       "  </thead>\n",
       "  <tbody>\n",
       "    <tr>\n",
       "      <th>2011-01-01 00:00:00</th>\n",
       "      <td>1</td>\n",
       "      <td>0</td>\n",
       "      <td>0</td>\n",
       "      <td>1</td>\n",
       "      <td>9.84</td>\n",
       "      <td>14.395</td>\n",
       "      <td>81</td>\n",
       "      <td>0.0</td>\n",
       "      <td>3</td>\n",
       "      <td>13</td>\n",
       "      <td>16</td>\n",
       "      <td>0</td>\n",
       "    </tr>\n",
       "    <tr>\n",
       "      <th>2011-01-01 01:00:00</th>\n",
       "      <td>1</td>\n",
       "      <td>0</td>\n",
       "      <td>0</td>\n",
       "      <td>1</td>\n",
       "      <td>9.02</td>\n",
       "      <td>13.635</td>\n",
       "      <td>80</td>\n",
       "      <td>0.0</td>\n",
       "      <td>8</td>\n",
       "      <td>32</td>\n",
       "      <td>40</td>\n",
       "      <td>1</td>\n",
       "    </tr>\n",
       "    <tr>\n",
       "      <th>2011-01-01 02:00:00</th>\n",
       "      <td>1</td>\n",
       "      <td>0</td>\n",
       "      <td>0</td>\n",
       "      <td>1</td>\n",
       "      <td>9.02</td>\n",
       "      <td>13.635</td>\n",
       "      <td>80</td>\n",
       "      <td>0.0</td>\n",
       "      <td>5</td>\n",
       "      <td>27</td>\n",
       "      <td>32</td>\n",
       "      <td>2</td>\n",
       "    </tr>\n",
       "    <tr>\n",
       "      <th>2011-01-01 03:00:00</th>\n",
       "      <td>1</td>\n",
       "      <td>0</td>\n",
       "      <td>0</td>\n",
       "      <td>1</td>\n",
       "      <td>9.84</td>\n",
       "      <td>14.395</td>\n",
       "      <td>75</td>\n",
       "      <td>0.0</td>\n",
       "      <td>3</td>\n",
       "      <td>10</td>\n",
       "      <td>13</td>\n",
       "      <td>3</td>\n",
       "    </tr>\n",
       "    <tr>\n",
       "      <th>2011-01-01 04:00:00</th>\n",
       "      <td>1</td>\n",
       "      <td>0</td>\n",
       "      <td>0</td>\n",
       "      <td>1</td>\n",
       "      <td>9.84</td>\n",
       "      <td>14.395</td>\n",
       "      <td>75</td>\n",
       "      <td>0.0</td>\n",
       "      <td>0</td>\n",
       "      <td>1</td>\n",
       "      <td>1</td>\n",
       "      <td>4</td>\n",
       "    </tr>\n",
       "  </tbody>\n",
       "</table>\n",
       "</div>"
      ],
      "text/plain": [
       "                     season  holiday  workingday  weather  temp   atemp  \\\n",
       "datetime                                                                  \n",
       "2011-01-01 00:00:00       1        0           0        1  9.84  14.395   \n",
       "2011-01-01 01:00:00       1        0           0        1  9.02  13.635   \n",
       "2011-01-01 02:00:00       1        0           0        1  9.02  13.635   \n",
       "2011-01-01 03:00:00       1        0           0        1  9.84  14.395   \n",
       "2011-01-01 04:00:00       1        0           0        1  9.84  14.395   \n",
       "\n",
       "                     humidity  windspeed  casual  registered  total  hour  \n",
       "datetime                                                                   \n",
       "2011-01-01 00:00:00        81        0.0       3          13     16     0  \n",
       "2011-01-01 01:00:00        80        0.0       8          32     40     1  \n",
       "2011-01-01 02:00:00        80        0.0       5          27     32     2  \n",
       "2011-01-01 03:00:00        75        0.0       3          10     13     3  \n",
       "2011-01-01 04:00:00        75        0.0       0           1      1     4  "
      ]
     },
     "execution_count": 3,
     "metadata": {},
     "output_type": "execute_result"
    }
   ],
   "source": [
    "# Lectura de la información de archivo .csv\n",
    "bikes = pd.read_csv('https://raw.githubusercontent.com/albahnsen/MIAD_ML_and_NLP/main/datasets/bikeshare.csv', index_col='datetime', parse_dates=True)\n",
    "# Renombrar variable \"count\" a \"total\"\n",
    "bikes.rename(columns={'count':'total'}, inplace=True)\n",
    "# Crear la hora como una variable \n",
    "bikes['hour'] = bikes.index.hour\n",
    "# Visualización\n",
    "bikes.head()"
   ]
  },
  {
   "cell_type": "markdown",
   "metadata": {},
   "source": [
    "### Punto 1 - Análisis descriptivo\n",
    "\n",
    "Ejecute las celdas 1.1 y 1.2. A partir de los resultados realice un análisis descriptivo sobre las variables hour y workingday, escriba sus inferencias sobre los datos. Para complementar su análisis puede usar métricas como máximo, mínimo, percentiles entre otros."
   ]
  },
  {
   "cell_type": "code",
   "execution_count": 4,
   "metadata": {},
   "outputs": [
    {
     "data": {
      "text/plain": [
       "workingday\n",
       "0    188.506621\n",
       "1    193.011873\n",
       "Name: total, dtype: float64"
      ]
     },
     "execution_count": 4,
     "metadata": {},
     "output_type": "execute_result"
    }
   ],
   "source": [
    "# Celda 1.1\n",
    "bikes.groupby('workingday').total.mean()"
   ]
  },
  {
   "cell_type": "code",
   "execution_count": 5,
   "metadata": {
    "scrolled": true
   },
   "outputs": [
    {
     "data": {
      "text/plain": [
       "hour\n",
       "0      55.138462\n",
       "1      33.859031\n",
       "2      22.899554\n",
       "3      11.757506\n",
       "4       6.407240\n",
       "5      19.767699\n",
       "6      76.259341\n",
       "7     213.116484\n",
       "8     362.769231\n",
       "9     221.780220\n",
       "10    175.092308\n",
       "11    210.674725\n",
       "12    256.508772\n",
       "13    257.787281\n",
       "14    243.442982\n",
       "15    254.298246\n",
       "16    316.372807\n",
       "17    468.765351\n",
       "18    430.859649\n",
       "19    315.278509\n",
       "20    228.517544\n",
       "21    173.370614\n",
       "22    133.576754\n",
       "23     89.508772\n",
       "Name: total, dtype: float64"
      ]
     },
     "execution_count": 5,
     "metadata": {},
     "output_type": "execute_result"
    }
   ],
   "source": [
    "# Celda 1.2\n",
    "bikes.groupby('hour').total.mean()"
   ]
  },
  {
   "cell_type": "code",
   "execution_count": 6,
   "metadata": {},
   "outputs": [
    {
     "name": "stdout",
     "output_type": "stream",
     "text": [
      "Estadisticas descriptivas por columna\n",
      "--------------------------------------\n",
      "         workingday          hour\n",
      "count  10886.000000  10886.000000\n",
      "mean       0.680875     11.541613\n",
      "std        0.466159      6.915838\n",
      "min        0.000000      0.000000\n",
      "25%        0.000000      6.000000\n",
      "50%        1.000000     12.000000\n",
      "75%        1.000000     18.000000\n",
      "max        1.000000     23.000000\n",
      "--------------------------------------------\n",
      "Cantidad de datos null or nan por columna:\n",
      "            #_faltantes  %_faltantes\n",
      "workingday            0          0.0\n",
      "hour                  0          0.0\n",
      "--------------------------------------------\n",
      "Numero de registros por workingday\n",
      "workingday\n",
      "0    3474\n",
      "1    7412\n",
      "Name: total, dtype: int64\n",
      "--------------------------------------------\n",
      "Promedio por hora:\n",
      "      workingday = 0  workingday = 1\n",
      "hour                                \n",
      "0          94.489655       36.732258\n",
      "1          71.910345       16.003236\n",
      "2          53.748252        8.436066\n",
      "3          25.534722        4.892734\n",
      "4           8.544828        5.363636\n",
      "5           9.373239       24.529032\n",
      "6          19.993103      102.577419\n",
      "7          47.268966      290.690323\n",
      "8         112.255172      479.945161\n",
      "9         177.924138      242.293548\n",
      "10        263.806897      133.596774\n",
      "11        325.386207      157.019355\n",
      "12        379.110345      199.347267\n",
      "13        387.820690      197.160772\n",
      "14        378.731034      180.366559\n",
      "15        373.703448      198.627010\n",
      "16        367.648276      292.466238\n",
      "17        339.124138      529.209003\n",
      "18        292.248276      495.485531\n",
      "19        242.344828      349.282958\n",
      "20        183.806897      249.363344\n",
      "21        148.737931      184.855305\n",
      "22        123.351724      138.344051\n",
      "23         90.606897       88.996785\n"
     ]
    }
   ],
   "source": [
    "print('Estadisticas descriptivas por columna')\n",
    "print('--------------------------------------')\n",
    "print(bikes[['workingday','hour']].describe(include = 'all'))\n",
    "\n",
    "print('--------------------------------------------')\n",
    "print('Cantidad de datos null or nan por columna:')\n",
    "percent_missing = bikes[['workingday','hour']].isna().sum() * 100 / len(bikes[['workingday','hour']])\n",
    "missing_value_df = pd.DataFrame({'#_faltantes': bikes[['workingday','hour']].isna().sum(),\n",
    "                                 '%_faltantes': percent_missing})\n",
    "print(missing_value_df)\n",
    "\n",
    "print('--------------------------------------------')\n",
    "print('Numero de registros por workingday')\n",
    "print(bikes.groupby('workingday').total.count())\n",
    "\n",
    "print('--------------------------------------------')\n",
    "print('Promedio por hora:')\n",
    "no_working_day = (bikes.loc[bikes['workingday'] == 0]).groupby('hour')\n",
    "working_day = (bikes.loc[bikes['workingday'] == 1]).groupby('hour')\n",
    "df_wd = pd.DataFrame({'workingday = 0': no_working_day.total.mean(),\n",
    "                      'workingday = 1': working_day.total.mean()})\n",
    "print(df_wd)\n",
    "\n"
   ]
  },
  {
   "cell_type": "markdown",
   "metadata": {},
   "source": [
    "> #### Inferencias\n",
    "> * El set de datos proporciandos contiene 10886 registros\n",
    "> * Ninguna de las variables de predictoras hour y workingday presentan valores nulos o vacios\n",
    "> * La variable workingday es una variable categorica bivariada, dónde 0 corresponde a los días que son fin de semana o días festivos y 1 para el caso contrario\n",
    "> * El número total de registros es mayor para workingday  = 1 pero sólo un poco, esto de acuerdo con la media que esta posicionada en 0.680875"
   ]
  },
  {
   "cell_type": "markdown",
   "metadata": {},
   "source": [
    "### Punto 2 - Análisis de gráficos\n",
    "\n",
    "Primero ejecute la celda 2.1 y asegúrese de comprender el código y el resultado. Luego, en cada una de celdas 2.2 y 2.3 escriba un código que genere una gráfica de las rentas promedio por hora cuando la variable \"workingday\" es igual a 0 e igual a 1, respectivamente. Analice y escriba sus hallazgos."
   ]
  },
  {
   "cell_type": "code",
   "execution_count": 7,
   "metadata": {},
   "outputs": [
    {
     "data": {
      "text/plain": [
       "<AxesSubplot:xlabel='hour'>"
      ]
     },
     "execution_count": 7,
     "metadata": {},
     "output_type": "execute_result"
    },
    {
     "data": {
      "image/png": "[encoded data removed]",
      "text/plain": [
       "<Figure size 432x288 with 1 Axes>"
      ]
     },
     "metadata": {
      "needs_background": "light"
     },
     "output_type": "display_data"
    }
   ],
   "source": [
    "# Celda 2.1 - rentas promedio para cada valor de la variable \"hour\"\n",
    "bikes.groupby('hour').total.mean().plot()"
   ]
  },
  {
   "cell_type": "code",
   "execution_count": 8,
   "metadata": {},
   "outputs": [
    {
     "name": "stdout",
     "output_type": "stream",
     "text": [
      "Rentas promedio por hora cuando la variable \"workingday\" = 0\n"
     ]
    },
    {
     "data": {
      "text/plain": [
       "<AxesSubplot:xlabel='hour'>"
      ]
     },
     "execution_count": 8,
     "metadata": {},
     "output_type": "execute_result"
    },
    {
     "data": {
      "image/png": "[encoded data removed]",
      "text/plain": [
       "<Figure size 432x288 with 1 Axes>"
      ]
     },
     "metadata": {
      "needs_background": "light"
     },
     "output_type": "display_data"
    }
   ],
   "source": [
    "# Celda 2.2 - \"workingday\"=0 escriba su código y hallazgos \n",
    "print('Rentas promedio por hora cuando la variable \"workingday\" = 0')\n",
    "(bikes.loc[bikes['workingday'] == 0]).groupby('hour').total.mean().plot()"
   ]
  },
  {
   "cell_type": "markdown",
   "metadata": {},
   "source": [
    "> #### Celda 2.2 - Hallazgos\n",
    "La gráfica muestra 3474 registros que coninciden con la condición workingday = 0. Como se puede observar, cuando es fin de semana o día de descanso (holiday), la renta de biclicletas incrementa durante el día, alcanzando su máximo punto a las 13:00 hrs con un promedio menor a 400 y después disminuye de manera gradual"
   ]
  },
  {
   "cell_type": "code",
   "execution_count": 9,
   "metadata": {},
   "outputs": [
    {
     "name": "stdout",
     "output_type": "stream",
     "text": [
      "Rentas promedio por hora cuando la variable \"workingday\" = 1\n"
     ]
    },
    {
     "data": {
      "text/plain": [
       "<AxesSubplot:xlabel='hour'>"
      ]
     },
     "execution_count": 9,
     "metadata": {},
     "output_type": "execute_result"
    },
    {
     "data": {
      "image/png": "[encoded data removed]",
      "text/plain": [
       "<Figure size 432x288 with 1 Axes>"
      ]
     },
     "metadata": {
      "needs_background": "light"
     },
     "output_type": "display_data"
    }
   ],
   "source": [
    "# Celda 2.3 - \"workingday\"=1 escriba su código y hallazgos \n",
    "print('Rentas promedio por hora cuando la variable \"workingday\" = 1')\n",
    "(bikes.loc[bikes['workingday'] == 1]).groupby('hour').total.mean().plot()"
   ]
  },
  {
   "cell_type": "markdown",
   "metadata": {},
   "source": [
    "> #### Celda 2.3 - Hallazgos\n",
    "La gráfica muestra 7412 registros que coninciden con la condición workingday = 1. Como se puede observar, cuando es un workingday, la renta de biclicletas tiene dos picos altos, uno a las 8:00 hrs y otro a las 17:00 hrs, ventana de tiempo que coincide con la jornada laboral en Washington, D.C (ciudad donde fueron recopilados los datos); tal y como se indica en el sitio oficial [Hours of duty and work schedules](https://www.commerce.gov/hr/practitioners/leave-policies/hours-of-duty-and-work-schedules#:~:text=The%20basic%20work%20week%20for,lunch%20period%20of%2030%20minutes.) del gobierno de los Estados Unidos\n"
   ]
  },
  {
   "cell_type": "markdown",
   "metadata": {},
   "source": [
    "### Punto 3 - Regresión lineal\n",
    "En la celda 3 ajuste un modelo de regresión lineal a todo el conjunto de datos, utilizando \"total\" como variable de respuesta y \"hour\" y \"workingday\" como las únicas variables predictoras. Luego, imprima los coeficientes e interprételos. ¿Cuáles son las limitaciones de la regresión lineal en este caso?"
   ]
  },
  {
   "cell_type": "code",
   "execution_count": 10,
   "metadata": {},
   "outputs": [
    {
     "name": "stdout",
     "output_type": "stream",
     "text": [
      "Score\n",
      "0.16059115011434855\n",
      "Coeficientes\n",
      "[[10.49206282  4.07248627]]\n",
      "Intercepto\n",
      "[67.70595026]\n",
      "------------------------------------------\n",
      "Métrica de desempeño R2: 0.15357074523449832\n"
     ]
    }
   ],
   "source": [
    "# Celda 3\n",
    "from sklearn.model_selection import train_test_split\n",
    "from sklearn import metrics\n",
    "\n",
    "X = bikes[['hour','workingday']]\n",
    "y = bikes[['total']]\n",
    "\n",
    "reg = LinearRegression().fit(X, y)\n",
    "print('Score')\n",
    "print(reg.score(X, y))\n",
    "print('Coeficientes')\n",
    "print(reg.coef_)\n",
    "print('Intercepto')\n",
    "print(reg.intercept_)\n",
    "\n",
    "\n",
    "#Para comparación \n",
    "XTrain, XTest, yTrain, yTest = train_test_split(X, y, test_size=0.33, random_state=0)\n",
    "reg = LinearRegression().fit(XTrain, yTrain)\n",
    "yPred = reg.predict(XTest)\n",
    "print(\"------------------------------------------\")\n",
    "print(\"Métrica de desempeño R2: \" + str(metrics.r2_score(yTest, yPred)))"
   ]
  },
  {
   "cell_type": "markdown",
   "metadata": {},
   "source": [
    "> #### ¿Cuáles son las limitaciones de la regresión lineal en este caso?\n",
    "> Gracias a los coeficientes se puede interpretar que por cada unidad de cambio en la hora el total aumenta el 10.49% y el 4.07% respecto al workingday.\n",
    "> Nuestra ecuación sería algo como total = 67.70 + 10.49 hour + 4.07 workingday, por lo cuál podríamos decir que la hora es el predictor más relevante. \n",
    "\n",
    "> La implementación del modelo de regresión lineal nos limita principalmente porque nuestros datos NO TIENDEN a un línea, esto se puede ver claramente en las gáficas que generamos anteriormente, tenemos altas y bajas en los valores y de acuerdo a nuestra ecuación siempre se van a predecir valores crecientes y esto no es cierto, a tráves de las horas los valores aumentan o disminuyen"
   ]
  },
  {
   "cell_type": "markdown",
   "metadata": {},
   "source": [
    "### Punto 4 - Árbol de decisión manual\n",
    "En la celda 4 cree un árbol de decisiones para pronosticar la variable \"total\" iterando **manualmente** sobre las variables \"hour\" y  \"workingday\". El árbol debe tener al menos 6 nodos finales."
   ]
  },
  {
   "cell_type": "code",
   "execution_count": null,
   "metadata": {},
   "outputs": [],
   "source": [
    "# Celda 4\n",
    "\n",
    "# Definición de parámetros y criterios de parada\n",
    "max_depth = None\n",
    "num_pct = 10\n",
    "max_features = None\n",
    "min_gain=0.001"
   ]
  },
  {
   "cell_type": "markdown",
   "metadata": {},
   "source": [
    "### Punto 5 - Árbol de decisión con librería\n",
    "En la celda 5 entrene un árbol de decisiones con la **librería sklearn**, usando las variables predictoras \"hour\" y \"workingday\" y calibre los parámetros que considere conveniente para obtener un mejor desempeño. Comente el desempeño del modelo con alguna métrica de desempeño de modelos de regresión y compare desempeño con el modelo del punto 3."
   ]
  },
  {
   "cell_type": "code",
   "execution_count": 11,
   "metadata": {},
   "outputs": [
    {
     "data": {
      "image/png": "[encoded data removed]",
      "text/plain": [
       "<Figure size 432x288 with 1 Axes>"
      ]
     },
     "metadata": {
      "needs_background": "light"
     },
     "output_type": "display_data"
    },
    {
     "name": "stdout",
     "output_type": "stream",
     "text": [
      "(0.6501337581022684, 8)\n",
      "Métrica de desempeño R2: 0.6504671083410165\n"
     ]
    }
   ],
   "source": [
    "# Celda 5\n",
    "import matplotlib.pyplot as plt\n",
    "from sklearn.model_selection import train_test_split\n",
    "\n",
    "XTrain, XTest, yTrain, yTest = train_test_split(X, y, test_size=0.33, random_state=0)\n",
    "\n",
    "max_depth_range = range(1, 21)\n",
    "r2_scores = []\n",
    "\n",
    "for depth in max_depth_range:\n",
    "    clf = DecisionTreeRegressor(max_depth=depth, random_state=1)\n",
    "    r2_scores.append(cross_val_score(clf, XTrain, yTrain, cv=10, scoring='r2').mean())\n",
    "    \n",
    "plt.plot(max_depth_range, r2_scores)\n",
    "plt.xlabel('max_depth')\n",
    "plt.ylabel('r2')\n",
    "plt.show()\n",
    "\n",
    "# Mejor R2 (desempeño del modelo) y su correspondiente max_depth\n",
    "best_num_tree = sorted(zip(r2_scores, max_depth_range))[::-1][0][1]\n",
    "print(sorted(zip(r2_scores, max_depth_range))[::-1][0])\n",
    "\n",
    "#Para la comparación de desempeño\n",
    "from sklearn.metrics import r2_score\n",
    "\n",
    "# max_depth=8 fue el mejor, se ajusta un árbol usando este valor \n",
    "clf = DecisionTreeRegressor(max_depth=best_num_tree, random_state=1)\n",
    "clf.fit(XTrain, yTrain)\n",
    "yPred = clf.predict(XTest)\n",
    "print(\"Métrica de desempeño R2: \" + str(r2_score(yTest, yPred)))"
   ]
  },
  {
   "cell_type": "markdown",
   "metadata": {},
   "source": [
    "> #### Desempeño del modelo y comparación con el modelo del punto 3.\n",
    "> El mejor max_depth fue 8, es aquí donde se obtiene el mejor R2 para nuestro modelo.\n",
    "> El R2 del árbol de decisión muestra un mejor desempeño con un valor mayor en comparación del modelo del punto 3, de hecho el modelo del punto 3 muestra un R2 del 15%, lo cuál quiere decir que el modelo de Regresión lineal explica muy poco la variabilidad de los datos"
   ]
  },
  {
   "cell_type": "markdown",
   "metadata": {},
   "source": [
    "## Parte B - Métodos de ensamblajes\n",
    "En esta parte del taller se usará el conjunto de datos de Popularidad de Noticias Online. El objetivo es predecir si la notica es popular o no, la populridad esta dada por la cantidad de reacciones en redes sociales. Para más detalles puede visitar el sigueinte enlace: [datos](https://archive.ics.uci.edu/ml/datasets/online+news+popularity)."
   ]
  },
  {
   "cell_type": "markdown",
   "metadata": {},
   "source": [
    "### Datos popularidad de noticias"
   ]
  },
  {
   "cell_type": "code",
   "execution_count": 12,
   "metadata": {},
   "outputs": [
    {
     "data": {
      "text/html": [
       "<div>\n",
       "<style scoped>\n",
       "    .dataframe tbody tr th:only-of-type {\n",
       "        vertical-align: middle;\n",
       "    }\n",
       "\n",
       "    .dataframe tbody tr th {\n",
       "        vertical-align: top;\n",
       "    }\n",
       "\n",
       "    .dataframe thead th {\n",
       "        text-align: right;\n",
       "    }\n",
       "</style>\n",
       "<table border=\"1\" class=\"dataframe\">\n",
       "  <thead>\n",
       "    <tr style=\"text-align: right;\">\n",
       "      <th></th>\n",
       "      <th>url</th>\n",
       "      <th>timedelta</th>\n",
       "      <th>n_tokens_title</th>\n",
       "      <th>n_tokens_content</th>\n",
       "      <th>n_unique_tokens</th>\n",
       "      <th>n_non_stop_words</th>\n",
       "      <th>n_non_stop_unique_tokens</th>\n",
       "      <th>num_hrefs</th>\n",
       "      <th>num_self_hrefs</th>\n",
       "      <th>num_imgs</th>\n",
       "      <th>...</th>\n",
       "      <th>min_positive_polarity</th>\n",
       "      <th>max_positive_polarity</th>\n",
       "      <th>avg_negative_polarity</th>\n",
       "      <th>min_negative_polarity</th>\n",
       "      <th>max_negative_polarity</th>\n",
       "      <th>title_subjectivity</th>\n",
       "      <th>title_sentiment_polarity</th>\n",
       "      <th>abs_title_subjectivity</th>\n",
       "      <th>abs_title_sentiment_polarity</th>\n",
       "      <th>Popular</th>\n",
       "    </tr>\n",
       "  </thead>\n",
       "  <tbody>\n",
       "    <tr>\n",
       "      <th>0</th>\n",
       "      <td>http://mashable.com/2014/12/10/cia-torture-rep...</td>\n",
       "      <td>28.0</td>\n",
       "      <td>9.0</td>\n",
       "      <td>188.0</td>\n",
       "      <td>0.732620</td>\n",
       "      <td>1.0</td>\n",
       "      <td>0.844262</td>\n",
       "      <td>5.0</td>\n",
       "      <td>1.0</td>\n",
       "      <td>1.0</td>\n",
       "      <td>...</td>\n",
       "      <td>0.200000</td>\n",
       "      <td>0.80</td>\n",
       "      <td>-0.487500</td>\n",
       "      <td>-0.60</td>\n",
       "      <td>-0.250000</td>\n",
       "      <td>0.9</td>\n",
       "      <td>0.8</td>\n",
       "      <td>0.4</td>\n",
       "      <td>0.8</td>\n",
       "      <td>1</td>\n",
       "    </tr>\n",
       "    <tr>\n",
       "      <th>1</th>\n",
       "      <td>http://mashable.com/2013/10/18/bitlock-kicksta...</td>\n",
       "      <td>447.0</td>\n",
       "      <td>7.0</td>\n",
       "      <td>297.0</td>\n",
       "      <td>0.653199</td>\n",
       "      <td>1.0</td>\n",
       "      <td>0.815789</td>\n",
       "      <td>9.0</td>\n",
       "      <td>4.0</td>\n",
       "      <td>1.0</td>\n",
       "      <td>...</td>\n",
       "      <td>0.160000</td>\n",
       "      <td>0.50</td>\n",
       "      <td>-0.135340</td>\n",
       "      <td>-0.40</td>\n",
       "      <td>-0.050000</td>\n",
       "      <td>0.1</td>\n",
       "      <td>-0.1</td>\n",
       "      <td>0.4</td>\n",
       "      <td>0.1</td>\n",
       "      <td>0</td>\n",
       "    </tr>\n",
       "    <tr>\n",
       "      <th>2</th>\n",
       "      <td>http://mashable.com/2013/07/24/google-glass-po...</td>\n",
       "      <td>533.0</td>\n",
       "      <td>11.0</td>\n",
       "      <td>181.0</td>\n",
       "      <td>0.660377</td>\n",
       "      <td>1.0</td>\n",
       "      <td>0.775701</td>\n",
       "      <td>4.0</td>\n",
       "      <td>3.0</td>\n",
       "      <td>1.0</td>\n",
       "      <td>...</td>\n",
       "      <td>0.136364</td>\n",
       "      <td>1.00</td>\n",
       "      <td>0.000000</td>\n",
       "      <td>0.00</td>\n",
       "      <td>0.000000</td>\n",
       "      <td>0.3</td>\n",
       "      <td>1.0</td>\n",
       "      <td>0.2</td>\n",
       "      <td>1.0</td>\n",
       "      <td>0</td>\n",
       "    </tr>\n",
       "    <tr>\n",
       "      <th>3</th>\n",
       "      <td>http://mashable.com/2013/11/21/these-are-the-m...</td>\n",
       "      <td>413.0</td>\n",
       "      <td>12.0</td>\n",
       "      <td>781.0</td>\n",
       "      <td>0.497409</td>\n",
       "      <td>1.0</td>\n",
       "      <td>0.677350</td>\n",
       "      <td>10.0</td>\n",
       "      <td>3.0</td>\n",
       "      <td>1.0</td>\n",
       "      <td>...</td>\n",
       "      <td>0.100000</td>\n",
       "      <td>1.00</td>\n",
       "      <td>-0.195701</td>\n",
       "      <td>-0.40</td>\n",
       "      <td>-0.071429</td>\n",
       "      <td>0.0</td>\n",
       "      <td>0.0</td>\n",
       "      <td>0.5</td>\n",
       "      <td>0.0</td>\n",
       "      <td>0</td>\n",
       "    </tr>\n",
       "    <tr>\n",
       "      <th>4</th>\n",
       "      <td>http://mashable.com/2014/02/11/parking-ticket-...</td>\n",
       "      <td>331.0</td>\n",
       "      <td>8.0</td>\n",
       "      <td>177.0</td>\n",
       "      <td>0.685714</td>\n",
       "      <td>1.0</td>\n",
       "      <td>0.830357</td>\n",
       "      <td>3.0</td>\n",
       "      <td>2.0</td>\n",
       "      <td>1.0</td>\n",
       "      <td>...</td>\n",
       "      <td>0.100000</td>\n",
       "      <td>0.55</td>\n",
       "      <td>-0.175000</td>\n",
       "      <td>-0.25</td>\n",
       "      <td>-0.100000</td>\n",
       "      <td>0.0</td>\n",
       "      <td>0.0</td>\n",
       "      <td>0.5</td>\n",
       "      <td>0.0</td>\n",
       "      <td>0</td>\n",
       "    </tr>\n",
       "  </tbody>\n",
       "</table>\n",
       "<p>5 rows × 61 columns</p>\n",
       "</div>"
      ],
      "text/plain": [
       "                                                 url  timedelta  \\\n",
       "0  http://mashable.com/2014/12/10/cia-torture-rep...       28.0   \n",
       "1  http://mashable.com/2013/10/18/bitlock-kicksta...      447.0   \n",
       "2  http://mashable.com/2013/07/24/google-glass-po...      533.0   \n",
       "3  http://mashable.com/2013/11/21/these-are-the-m...      413.0   \n",
       "4  http://mashable.com/2014/02/11/parking-ticket-...      331.0   \n",
       "\n",
       "   n_tokens_title  n_tokens_content  n_unique_tokens  n_non_stop_words  \\\n",
       "0             9.0             188.0         0.732620               1.0   \n",
       "1             7.0             297.0         0.653199               1.0   \n",
       "2            11.0             181.0         0.660377               1.0   \n",
       "3            12.0             781.0         0.497409               1.0   \n",
       "4             8.0             177.0         0.685714               1.0   \n",
       "\n",
       "   n_non_stop_unique_tokens  num_hrefs  num_self_hrefs  num_imgs  ...  \\\n",
       "0                  0.844262        5.0             1.0       1.0  ...   \n",
       "1                  0.815789        9.0             4.0       1.0  ...   \n",
       "2                  0.775701        4.0             3.0       1.0  ...   \n",
       "3                  0.677350       10.0             3.0       1.0  ...   \n",
       "4                  0.830357        3.0             2.0       1.0  ...   \n",
       "\n",
       "   min_positive_polarity  max_positive_polarity  avg_negative_polarity  \\\n",
       "0               0.200000                   0.80              -0.487500   \n",
       "1               0.160000                   0.50              -0.135340   \n",
       "2               0.136364                   1.00               0.000000   \n",
       "3               0.100000                   1.00              -0.195701   \n",
       "4               0.100000                   0.55              -0.175000   \n",
       "\n",
       "   min_negative_polarity  max_negative_polarity  title_subjectivity  \\\n",
       "0                  -0.60              -0.250000                 0.9   \n",
       "1                  -0.40              -0.050000                 0.1   \n",
       "2                   0.00               0.000000                 0.3   \n",
       "3                  -0.40              -0.071429                 0.0   \n",
       "4                  -0.25              -0.100000                 0.0   \n",
       "\n",
       "   title_sentiment_polarity  abs_title_subjectivity  \\\n",
       "0                       0.8                     0.4   \n",
       "1                      -0.1                     0.4   \n",
       "2                       1.0                     0.2   \n",
       "3                       0.0                     0.5   \n",
       "4                       0.0                     0.5   \n",
       "\n",
       "   abs_title_sentiment_polarity  Popular  \n",
       "0                           0.8        1  \n",
       "1                           0.1        0  \n",
       "2                           1.0        0  \n",
       "3                           0.0        0  \n",
       "4                           0.0        0  \n",
       "\n",
       "[5 rows x 61 columns]"
      ]
     },
     "execution_count": 12,
     "metadata": {},
     "output_type": "execute_result"
    }
   ],
   "source": [
    "# Lectura de la información de archivo .csv\n",
    "df = pd.read_csv('https://raw.githubusercontent.com/albahnsen/MIAD_ML_and_NLP/main/datasets/mashable.csv', index_col=0)\n",
    "df.head()"
   ]
  },
  {
   "cell_type": "code",
   "execution_count": 13,
   "metadata": {},
   "outputs": [
    {
     "data": {
      "text/plain": [
       "0.5"
      ]
     },
     "execution_count": 13,
     "metadata": {},
     "output_type": "execute_result"
    }
   ],
   "source": [
    "# Definición variable de interes y variables predictoras\n",
    "X = df.drop(['url', 'Popular'], axis=1)\n",
    "y = df['Popular']\n",
    "y.mean()"
   ]
  },
  {
   "cell_type": "code",
   "execution_count": 14,
   "metadata": {},
   "outputs": [],
   "source": [
    "# División de la muestra en set de entrenamiento y prueba\n",
    "from sklearn.model_selection import train_test_split\n",
    "X_train, X_test, y_train, y_test = train_test_split(X, y, random_state=1)"
   ]
  },
  {
   "cell_type": "markdown",
   "metadata": {},
   "source": [
    "### Punto 6 - Árbol de decisión y regresión logística\n",
    "En la celda 6 construya un árbol de decisión y una regresión logística. Para el árbol calibre al menos un parámetro y evalúe el desempeño de cada modelo usando las métricas de Accuracy y F1-Score."
   ]
  },
  {
   "cell_type": "code",
   "execution_count": 15,
   "metadata": {},
   "outputs": [
    {
     "data": {
      "image/png": "[encoded data removed]",
      "text/plain": [
       "<Figure size 432x288 with 1 Axes>"
      ]
     },
     "metadata": {
      "needs_background": "light"
     },
     "output_type": "display_data"
    },
    {
     "name": "stdout",
     "output_type": "stream",
     "text": [
      "--------------------------------------------\n",
      "Árbol de decisión\n",
      "Accuracy: 0.6453333333333333\n",
      "F1: 0.6448598130841121\n",
      "--------------------------------------------\n",
      "Regresión Logistica\n",
      "Accuracy: 0.6146666666666667\n",
      "F1: 0.6110363391655451\n"
     ]
    }
   ],
   "source": [
    "# Celda 6\n",
    "\n",
    "#Selección del mejor Árbol de decisión \n",
    "from sklearn.tree import DecisionTreeClassifier\n",
    "from sklearn.linear_model import LogisticRegression\n",
    "from sklearn import metrics\n",
    "\n",
    "max_depth_range = range(1, 21)\n",
    "accuracy_scores  = []\n",
    "\n",
    "for depth in max_depth_range:\n",
    "    clf = DecisionTreeClassifier(max_depth=depth, random_state=1)\n",
    "    accuracy_scores.append(cross_val_score(clf, X_train, y_train, cv=10, scoring='accuracy').mean())\n",
    "    \n",
    "plt.plot(max_depth_range, accuracy_scores)\n",
    "plt.xlabel('max_depth')\n",
    "plt.ylabel('Accuracy')\n",
    "plt.show()\n",
    "\n",
    "best_num_tree = sorted(zip(accuracy_scores, max_depth_range))[::-1][0][1]\n",
    "\n",
    "#Métricas\n",
    "arbol = DecisionTreeClassifier(max_depth=best_num_tree, random_state=1)\n",
    "arbol.fit(X_train, y_train)\n",
    "yPredArbol = arbol.predict(X_test)\n",
    "\n",
    "print(\"--------------------------------------------\")\n",
    "print(\"Árbol de decisión\")\n",
    "print(\"Accuracy: \" + str(metrics.accuracy_score(y_test, yPredArbol)))\n",
    "print(\"F1: \" + str(metrics.f1_score(y_test, yPredArbol)))\n",
    "\n",
    "reg = LogisticRegression(random_state=0).fit(X_train, y_train)\n",
    "yPredReg = reg.predict(X_test)\n",
    "\n",
    "print(\"--------------------------------------------\")\n",
    "print(\"Regresión Logistica\")\n",
    "print(\"Accuracy: \" + str(metrics.accuracy_score(y_test, yPredReg)))\n",
    "print(\"F1: \" + str(metrics.f1_score(y_test, yPredReg)))"
   ]
  },
  {
   "cell_type": "markdown",
   "metadata": {},
   "source": [
    "> #### Comparación de modelos\n",
    "> Para el árbol se utilizo una profundidad de 2 dado que arrojo el mejor Accuracy. Comparando estos modelos con las dos metricas podemos decir que el árbol de decisión funciona mejor que la regresión logistica"
   ]
  },
  {
   "cell_type": "markdown",
   "metadata": {},
   "source": [
    "### Punto 7 - Votación Mayoritaria\n",
    "En la celda 7 elabore un esamble con la metodología de **Votación mayoritaria** compuesto por 300 muestras bagged para cada uno de los siguientes escenarios:\n",
    "\n",
    "-100 árboles de decisión donde max_depth = None\\\n",
    "-100 árboles de decisión donde max_depth = 2\\\n",
    "-100 regresiones logísticas\n",
    "\n",
    "Evalúe los modelos utilizando las métricas de Accuracy y F1-Score."
   ]
  },
  {
   "cell_type": "code",
   "execution_count": 16,
   "metadata": {},
   "outputs": [
    {
     "name": "stdout",
     "output_type": "stream",
     "text": [
      "-------------------------------------\n",
      "Desempeño al hacer votación mayoritaria\n",
      "--------------------------------------------\n",
      "100 árboles de decisión donde max_depth = None\n",
      "Accuracy: 0.64\n",
      "F1: 0.642384105960265\n",
      "--------------------------------------------\n",
      "100 árboles de decisión donde max_depth = 2\n",
      "Accuracy: 0.6446666666666667\n",
      "F1: 0.6439545758183033\n",
      "--------------------------------------------\n",
      "100 regresiones logísticas\n",
      "Accuracy: 0.6173333333333333\n",
      "F1: 0.6126855600539811\n"
     ]
    }
   ],
   "source": [
    "# Celda 7\n",
    "from sklearn.ensemble import BaggingClassifier\n",
    "\n",
    "num_estimadores = 100\n",
    "\n",
    "# 100 árboles de decisión donde max_depth = None\n",
    "mdNone = BaggingClassifier(base_estimator = DecisionTreeClassifier(max_depth=None), n_estimators=num_estimadores, \n",
    "                           bootstrap =True, random_state=42, n_jobs=-1, oob_score=True)\n",
    "# 100 árboles de decisión donde max_depth = 2\n",
    "md2 = BaggingClassifier(base_estimator = DecisionTreeClassifier(max_depth=2), n_estimators=num_estimadores, \n",
    "                           bootstrap =True, random_state=42, n_jobs=-1, oob_score=True)\n",
    "# 100 regresiones logísticas\n",
    "rl = BaggingClassifier(base_estimator=LogisticRegression(), n_estimators=num_estimadores, \n",
    "                           bootstrap=True, random_state=42, n_jobs=-1, oob_score=True)\n",
    "\n",
    "\n",
    "# Predicción y desempeño al hacer votación mayoritaria\n",
    "print(\"-------------------------------------\")\n",
    "print(\"Desempeño al hacer votación mayoritaria\")\n",
    "\n",
    "mdNone.fit(X_train, y_train)\n",
    "yPredmdNone = mdNone.predict(X_test)\n",
    "print(\"--------------------------------------------\")\n",
    "print(\"100 árboles de decisión donde max_depth = None\")\n",
    "print(\"Accuracy: \" + str(metrics.accuracy_score(yPredmdNone, y_test)))\n",
    "print(\"F1: \" + str(metrics.f1_score(yPredmdNone, y_test)))\n",
    "\n",
    "md2.fit(X_train, y_train)\n",
    "yPredmd2 = md2.predict(X_test)\n",
    "print(\"--------------------------------------------\")\n",
    "print(\"100 árboles de decisión donde max_depth = 2\")\n",
    "print(\"Accuracy: \" + str(metrics.accuracy_score(yPredmd2, y_test)))\n",
    "print(\"F1: \" + str(metrics.f1_score(yPredmd2, y_test)))\n",
    "\n",
    "rl.fit(X_train, y_train)\n",
    "yPredmrl = rl.predict(X_test)\n",
    "print(\"--------------------------------------------\")\n",
    "print(\"100 regresiones logísticas\")\n",
    "print(\"Accuracy: \" + str(metrics.accuracy_score(yPredmrl, y_test)))\n",
    "print(\"F1: \" + str(metrics.f1_score(yPredmrl, y_test)))\n",
    "\n"
   ]
  },
  {
   "cell_type": "markdown",
   "metadata": {},
   "source": [
    "### Punto 8 - Votación Ponderada\n",
    "En la celda 8 elabore un ensamble con la metodología de **Votación ponderada** compuesto por 300 muestras bagged para los mismos tres escenarios del punto 7. Evalúe los modelos utilizando las métricas de Accuracy y F1-Score"
   ]
  },
  {
   "cell_type": "code",
   "execution_count": 17,
   "metadata": {},
   "outputs": [
    {
     "name": "stdout",
     "output_type": "stream",
     "text": [
      "-------------------------------------\n",
      "Desempeño al hacer votación ponderada\n",
      "--------------------------------------------\n",
      "100 árboles de decisión donde max_depth = None\n",
      "Accuracy: 0.6453333333333333\n",
      "F1: 0.6513761467889909\n",
      "--------------------------------------------\n",
      "100 árboles de decisión donde max_depth = 2\n",
      "Accuracy: 0.6453333333333333\n",
      "F1: 0.6448598130841121\n",
      "--------------------------------------------\n",
      "100 regresiones logísticas\n",
      "Accuracy: 0.6186666666666667\n",
      "F1: 0.6140350877192983\n"
     ]
    }
   ],
   "source": [
    "# Celda 8\n",
    "\n",
    "# 100 árboles de decisión donde max_depth = None\n",
    "errors_none = np.zeros(mdNone.n_estimators)\n",
    "y_pred_all_none = np.zeros((X_test.shape[0], mdNone.n_estimators))\n",
    "\n",
    "# 100 árboles de decisión donde max_depth = 2\n",
    "errors_2 = np.zeros(md2.n_estimators)\n",
    "y_pred_all_2 = np.zeros((X_test.shape[0], md2.n_estimators))\n",
    "\n",
    "# 100 regresiones logísticas\n",
    "errors_rl = np.zeros(rl.n_estimators)\n",
    "y_pred_all_rl = np.zeros((X_test.shape[0], rl.n_estimators))\n",
    "\n",
    "for i in range(num_estimadores):\n",
    "    \n",
    "    #100 árboles de decisión donde max_depth = None\n",
    "    oob_sample = ~mdNone.estimators_samples_[i]\n",
    "    y_pred_ = mdNone.estimators_[i].predict(X_train.values[oob_sample])\n",
    "    errors_none[i] = metrics.accuracy_score(y_pred_, y_train.values[oob_sample])\n",
    "    y_pred_all_none[:, i] = mdNone.estimators_[i].predict(X_test)\n",
    "    \n",
    "    # 100 árboles de decisión donde max_depth = 2\n",
    "    oob_sample = ~md2.estimators_samples_[i]\n",
    "    y_pred_ = md2.estimators_[i].predict(X_train.values[oob_sample])\n",
    "    errors_2[i] = metrics.accuracy_score(y_pred_, y_train.values[oob_sample])\n",
    "    y_pred_all_2[:, i] = md2.estimators_[i].predict(X_test)\n",
    "    \n",
    "    # 100 regresiones logísticas\n",
    "    oob_sample = ~rl.estimators_samples_[i]\n",
    "    y_pred_ = rl.estimators_[i].predict(X_train.values[oob_sample])\n",
    "    errors_rl[i] = metrics.accuracy_score(y_pred_, y_train.values[oob_sample])\n",
    "    y_pred_all_rl[:, i] = rl.estimators_[i].predict(X_test)\n",
    "\n",
    "# Desempeño al hacer votación ponderada\n",
    "print(\"-------------------------------------\")\n",
    "print(\"Desempeño al hacer votación ponderada\")\n",
    "\n",
    "#100 árboles de decisión donde max_depth = None\n",
    "alpha = (1 - errors_none) / (1 - errors_none).sum()\n",
    "yPredNone = (np.sum(y_pred_all_none * alpha, axis=1) >= 0.5).astype(np.int)\n",
    "print(\"--------------------------------------------\")\n",
    "print(\"100 árboles de decisión donde max_depth = None\")\n",
    "print(\"Accuracy: \" + str(metrics.accuracy_score(yPredNone, y_test)))\n",
    "print(\"F1: \" + str(metrics.f1_score(yPredNone, y_test)))\n",
    "\n",
    "# 100 árboles de decisión donde max_depth = 2\n",
    "alpha = (1 - errors_2) / (1 - errors_2).sum()\n",
    "yPred2 = (np.sum(y_pred_all_2 * alpha, axis=1) >= 0.5).astype(np.int)\n",
    "print(\"--------------------------------------------\")\n",
    "print(\"100 árboles de decisión donde max_depth = 2\")\n",
    "print(\"Accuracy: \" + str(metrics.accuracy_score(yPred2, y_test)))\n",
    "print(\"F1: \" + str(metrics.f1_score(yPred2, y_test)))\n",
    "\n",
    "# 100 regresiones logísticas\n",
    "alpha = (1 - errors_rl) / (1 - errors_rl).sum()\n",
    "yPredrl = (np.sum(y_pred_all_rl * alpha, axis=1) >= 0.5).astype(np.int)\n",
    "print(\"--------------------------------------------\")\n",
    "print(\"100 regresiones logísticas\")\n",
    "print(\"Accuracy: \" + str(metrics.accuracy_score(yPredrl, y_test)))\n",
    "print(\"F1: \" + str(metrics.f1_score(yPredrl, y_test)))"
   ]
  },
  {
   "cell_type": "markdown",
   "metadata": {},
   "source": [
    "### Punto 9 - Comparación y análisis de resultados\n",
    "En la celda 9 comente sobre los resultados obtenidos con las metodologías usadas en los puntos 7 y 8, compare los resultados y enuncie posibles ventajas o desventajas de cada una de ellas."
   ]
  },
  {
   "cell_type": "code",
   "execution_count": 18,
   "metadata": {},
   "outputs": [
    {
     "data": {
      "image/png": "[encoded data removed]",
      "text/plain": [
       "<Figure size 432x288 with 1 Axes>"
      ]
     },
     "metadata": {
      "needs_background": "light"
     },
     "output_type": "display_data"
    },
    {
     "data": {
      "image/png": "[encoded data removed]",
      "text/plain": [
       "<Figure size 432x288 with 1 Axes>"
      ]
     },
     "metadata": {
      "needs_background": "light"
     },
     "output_type": "display_data"
    }
   ],
   "source": [
    "# Celda 9\n",
    "fig = plt.figure()\n",
    "ax = fig.add_axes([0,0,1,1])\n",
    "ax.set_title(\"Comparación de Accuracy para votación mayoritaria y ponderada\")\n",
    "ejeX = ['MaxDepth None VM','MaxDepth None VP','MaxDepth 2 VM','MaxDepth 2 VP','RL VM','RL VP']\n",
    "ejeY = [round(metrics.accuracy_score(yPredmdNone, y_test),4),\n",
    "       round(metrics.accuracy_score(yPredNone, y_test),4),\n",
    "       round(metrics.accuracy_score(yPredmd2, y_test),4),\n",
    "       round(metrics.accuracy_score(yPred2, y_test),4),\n",
    "       round(metrics.accuracy_score(yPredmrl, y_test),4),\n",
    "       round(metrics.accuracy_score(yPredrl, y_test),4)]\n",
    "\n",
    "cc=['colors']*len(ejeX)\n",
    "for n,val in enumerate(ejeX):\n",
    "    if n%2:\n",
    "        cc[n]='blue'\n",
    "    else:\n",
    "        cc[n]='orange'\n",
    "\n",
    "ax.bar(ejeX,ejeY, color = cc)\n",
    "def addlabels(x,y,plotP):\n",
    "    for i in range(len(x)):\n",
    "        plotP.text(i,y[i],y[i])\n",
    "addlabels(ejeX,ejeY,plt)\n",
    "plt.xticks(rotation=90)\n",
    "plt.show()\n",
    "\n",
    "fig = plt.figure()\n",
    "ax = fig.add_axes([0,0,1,1])\n",
    "ax.set_title(\"Comparación de F1 para votación mayoritaria y ponderada\")\n",
    "ejeX = ['MaxDepth None VM','MaxDepth None VP','MaxDepth 2 VM','MaxDepth 2 VP','RL VM','RL VP']\n",
    "ejeY = [round(metrics.f1_score(yPredmdNone, y_test),4),\n",
    "       round(metrics.f1_score(yPredNone, y_test),4),\n",
    "       round(metrics.f1_score(yPredmd2, y_test),4),\n",
    "       round(metrics.f1_score(yPred2, y_test),4),\n",
    "       round(metrics.f1_score(yPredmrl, y_test),4),\n",
    "       round(metrics.f1_score(yPredrl, y_test),4)]\n",
    "ax.bar(ejeX,ejeY, color = cc)\n",
    "def addlabels(x,y,plotP):\n",
    "    for i in range(len(x)):\n",
    "        plotP.text(i,y[i],y[i])\n",
    "addlabels(ejeX,ejeY,plt)\n",
    "plt.xticks(rotation=90)\n",
    "plt.show()"
   ]
  },
  {
   "cell_type": "markdown",
   "metadata": {},
   "source": [
    "> #### Comparación de resultados \n",
    "> Los resultados obtenidos por ponderación mayoritaria y ponderada son muy similares entre los modelos pero se puede observar una ligera mejoría en la votación ponderada.\n",
    "\n"
   ]
  }
 ],
 "metadata": {
  "kernelspec": {
   "display_name": "Python 3 (ipykernel)",
   "language": "python",
   "name": "python3"
  },
  "language_info": {
   "codemirror_mode": {
    "name": "ipython",
    "version": 3
   },
   "file_extension": ".py",
   "mimetype": "text/x-python",
   "name": "python",
   "nbconvert_exporter": "python",
   "pygments_lexer": "ipython3",
   "version": "3.8.8"
  }
 },
 "nbformat": 4,
 "nbformat_minor": 4
}
